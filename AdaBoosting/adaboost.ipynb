{
 "cells": [
  {
   "cell_type": "code",
   "execution_count": 30,
   "id": "1818e34a",
   "metadata": {},
   "outputs": [],
   "source": [
    "import pandas as pd\n",
    "import numpy as np\n",
    "df=pd.read_csv(\"https://raw.githubusercontent.com/shrikant-temburwar/Wine-Quality-Dataset/master/winequality-red.csv\",sep = ';')"
   ]
  },
  {
   "cell_type": "code",
   "execution_count": 31,
   "id": "595798a1",
   "metadata": {},
   "outputs": [
    {
     "data": {
      "text/html": [
       "<div>\n",
       "<style scoped>\n",
       "    .dataframe tbody tr th:only-of-type {\n",
       "        vertical-align: middle;\n",
       "    }\n",
       "\n",
       "    .dataframe tbody tr th {\n",
       "        vertical-align: top;\n",
       "    }\n",
       "\n",
       "    .dataframe thead th {\n",
       "        text-align: right;\n",
       "    }\n",
       "</style>\n",
       "<table border=\"1\" class=\"dataframe\">\n",
       "  <thead>\n",
       "    <tr style=\"text-align: right;\">\n",
       "      <th></th>\n",
       "      <th>fixed acidity</th>\n",
       "      <th>volatile acidity</th>\n",
       "      <th>citric acid</th>\n",
       "      <th>residual sugar</th>\n",
       "      <th>chlorides</th>\n",
       "      <th>free sulfur dioxide</th>\n",
       "      <th>total sulfur dioxide</th>\n",
       "      <th>density</th>\n",
       "      <th>pH</th>\n",
       "      <th>sulphates</th>\n",
       "      <th>alcohol</th>\n",
       "      <th>quality</th>\n",
       "    </tr>\n",
       "  </thead>\n",
       "  <tbody>\n",
       "    <tr>\n",
       "      <th>0</th>\n",
       "      <td>7.4</td>\n",
       "      <td>0.70</td>\n",
       "      <td>0.00</td>\n",
       "      <td>1.9</td>\n",
       "      <td>0.076</td>\n",
       "      <td>11.0</td>\n",
       "      <td>34.0</td>\n",
       "      <td>0.9978</td>\n",
       "      <td>3.51</td>\n",
       "      <td>0.56</td>\n",
       "      <td>9.4</td>\n",
       "      <td>5</td>\n",
       "    </tr>\n",
       "    <tr>\n",
       "      <th>1</th>\n",
       "      <td>7.8</td>\n",
       "      <td>0.88</td>\n",
       "      <td>0.00</td>\n",
       "      <td>2.6</td>\n",
       "      <td>0.098</td>\n",
       "      <td>25.0</td>\n",
       "      <td>67.0</td>\n",
       "      <td>0.9968</td>\n",
       "      <td>3.20</td>\n",
       "      <td>0.68</td>\n",
       "      <td>9.8</td>\n",
       "      <td>5</td>\n",
       "    </tr>\n",
       "    <tr>\n",
       "      <th>2</th>\n",
       "      <td>7.8</td>\n",
       "      <td>0.76</td>\n",
       "      <td>0.04</td>\n",
       "      <td>2.3</td>\n",
       "      <td>0.092</td>\n",
       "      <td>15.0</td>\n",
       "      <td>54.0</td>\n",
       "      <td>0.9970</td>\n",
       "      <td>3.26</td>\n",
       "      <td>0.65</td>\n",
       "      <td>9.8</td>\n",
       "      <td>5</td>\n",
       "    </tr>\n",
       "    <tr>\n",
       "      <th>3</th>\n",
       "      <td>11.2</td>\n",
       "      <td>0.28</td>\n",
       "      <td>0.56</td>\n",
       "      <td>1.9</td>\n",
       "      <td>0.075</td>\n",
       "      <td>17.0</td>\n",
       "      <td>60.0</td>\n",
       "      <td>0.9980</td>\n",
       "      <td>3.16</td>\n",
       "      <td>0.58</td>\n",
       "      <td>9.8</td>\n",
       "      <td>6</td>\n",
       "    </tr>\n",
       "    <tr>\n",
       "      <th>4</th>\n",
       "      <td>7.4</td>\n",
       "      <td>0.70</td>\n",
       "      <td>0.00</td>\n",
       "      <td>1.9</td>\n",
       "      <td>0.076</td>\n",
       "      <td>11.0</td>\n",
       "      <td>34.0</td>\n",
       "      <td>0.9978</td>\n",
       "      <td>3.51</td>\n",
       "      <td>0.56</td>\n",
       "      <td>9.4</td>\n",
       "      <td>5</td>\n",
       "    </tr>\n",
       "  </tbody>\n",
       "</table>\n",
       "</div>"
      ],
      "text/plain": [
       "   fixed acidity  volatile acidity  citric acid  residual sugar  chlorides  \\\n",
       "0            7.4              0.70         0.00             1.9      0.076   \n",
       "1            7.8              0.88         0.00             2.6      0.098   \n",
       "2            7.8              0.76         0.04             2.3      0.092   \n",
       "3           11.2              0.28         0.56             1.9      0.075   \n",
       "4            7.4              0.70         0.00             1.9      0.076   \n",
       "\n",
       "   free sulfur dioxide  total sulfur dioxide  density    pH  sulphates  \\\n",
       "0                 11.0                  34.0   0.9978  3.51       0.56   \n",
       "1                 25.0                  67.0   0.9968  3.20       0.68   \n",
       "2                 15.0                  54.0   0.9970  3.26       0.65   \n",
       "3                 17.0                  60.0   0.9980  3.16       0.58   \n",
       "4                 11.0                  34.0   0.9978  3.51       0.56   \n",
       "\n",
       "   alcohol  quality  \n",
       "0      9.4        5  \n",
       "1      9.8        5  \n",
       "2      9.8        5  \n",
       "3      9.8        6  \n",
       "4      9.4        5  "
      ]
     },
     "execution_count": 31,
     "metadata": {},
     "output_type": "execute_result"
    }
   ],
   "source": [
    "df.head()"
   ]
  },
  {
   "cell_type": "code",
   "execution_count": 32,
   "id": "d6db1cf0",
   "metadata": {},
   "outputs": [
    {
     "data": {
      "text/plain": [
       "array([5, 6, 7, 4, 8, 3], dtype=int64)"
      ]
     },
     "execution_count": 32,
     "metadata": {},
     "output_type": "execute_result"
    }
   ],
   "source": [
    "df['quality'].unique()"
   ]
  },
  {
   "cell_type": "code",
   "execution_count": 33,
   "id": "f0c32085",
   "metadata": {},
   "outputs": [
    {
     "data": {
      "text/plain": [
       "6"
      ]
     },
     "execution_count": 33,
     "metadata": {},
     "output_type": "execute_result"
    }
   ],
   "source": [
    "len(df['quality'].unique())"
   ]
  },
  {
   "cell_type": "code",
   "execution_count": 34,
   "id": "4e309a71",
   "metadata": {},
   "outputs": [
    {
     "data": {
      "text/plain": [
       "6"
      ]
     },
     "execution_count": 34,
     "metadata": {},
     "output_type": "execute_result"
    }
   ],
   "source": [
    "df['quality'].nunique()"
   ]
  },
  {
   "cell_type": "code",
   "execution_count": 35,
   "id": "dc8ba281",
   "metadata": {},
   "outputs": [
    {
     "data": {
      "text/plain": [
       "5    681\n",
       "6    638\n",
       "7    199\n",
       "4     53\n",
       "8     18\n",
       "3     10\n",
       "Name: quality, dtype: int64"
      ]
     },
     "execution_count": 35,
     "metadata": {},
     "output_type": "execute_result"
    }
   ],
   "source": [
    "df['quality'].value_counts()"
   ]
  },
  {
   "cell_type": "code",
   "execution_count": 36,
   "id": "f1ec3758",
   "metadata": {},
   "outputs": [
    {
     "data": {
      "text/html": [
       "<div>\n",
       "<style scoped>\n",
       "    .dataframe tbody tr th:only-of-type {\n",
       "        vertical-align: middle;\n",
       "    }\n",
       "\n",
       "    .dataframe tbody tr th {\n",
       "        vertical-align: top;\n",
       "    }\n",
       "\n",
       "    .dataframe thead th {\n",
       "        text-align: right;\n",
       "    }\n",
       "</style>\n",
       "<table border=\"1\" class=\"dataframe\">\n",
       "  <thead>\n",
       "    <tr style=\"text-align: right;\">\n",
       "      <th></th>\n",
       "      <th>count</th>\n",
       "      <th>mean</th>\n",
       "      <th>std</th>\n",
       "      <th>min</th>\n",
       "      <th>25%</th>\n",
       "      <th>50%</th>\n",
       "      <th>75%</th>\n",
       "      <th>max</th>\n",
       "    </tr>\n",
       "  </thead>\n",
       "  <tbody>\n",
       "    <tr>\n",
       "      <th>fixed acidity</th>\n",
       "      <td>1599.0</td>\n",
       "      <td>8.319637</td>\n",
       "      <td>1.741096</td>\n",
       "      <td>4.60000</td>\n",
       "      <td>7.1000</td>\n",
       "      <td>7.90000</td>\n",
       "      <td>9.200000</td>\n",
       "      <td>15.90000</td>\n",
       "    </tr>\n",
       "    <tr>\n",
       "      <th>volatile acidity</th>\n",
       "      <td>1599.0</td>\n",
       "      <td>0.527821</td>\n",
       "      <td>0.179060</td>\n",
       "      <td>0.12000</td>\n",
       "      <td>0.3900</td>\n",
       "      <td>0.52000</td>\n",
       "      <td>0.640000</td>\n",
       "      <td>1.58000</td>\n",
       "    </tr>\n",
       "    <tr>\n",
       "      <th>citric acid</th>\n",
       "      <td>1599.0</td>\n",
       "      <td>0.270976</td>\n",
       "      <td>0.194801</td>\n",
       "      <td>0.00000</td>\n",
       "      <td>0.0900</td>\n",
       "      <td>0.26000</td>\n",
       "      <td>0.420000</td>\n",
       "      <td>1.00000</td>\n",
       "    </tr>\n",
       "    <tr>\n",
       "      <th>residual sugar</th>\n",
       "      <td>1599.0</td>\n",
       "      <td>2.538806</td>\n",
       "      <td>1.409928</td>\n",
       "      <td>0.90000</td>\n",
       "      <td>1.9000</td>\n",
       "      <td>2.20000</td>\n",
       "      <td>2.600000</td>\n",
       "      <td>15.50000</td>\n",
       "    </tr>\n",
       "    <tr>\n",
       "      <th>chlorides</th>\n",
       "      <td>1599.0</td>\n",
       "      <td>0.087467</td>\n",
       "      <td>0.047065</td>\n",
       "      <td>0.01200</td>\n",
       "      <td>0.0700</td>\n",
       "      <td>0.07900</td>\n",
       "      <td>0.090000</td>\n",
       "      <td>0.61100</td>\n",
       "    </tr>\n",
       "    <tr>\n",
       "      <th>free sulfur dioxide</th>\n",
       "      <td>1599.0</td>\n",
       "      <td>15.874922</td>\n",
       "      <td>10.460157</td>\n",
       "      <td>1.00000</td>\n",
       "      <td>7.0000</td>\n",
       "      <td>14.00000</td>\n",
       "      <td>21.000000</td>\n",
       "      <td>72.00000</td>\n",
       "    </tr>\n",
       "    <tr>\n",
       "      <th>total sulfur dioxide</th>\n",
       "      <td>1599.0</td>\n",
       "      <td>46.467792</td>\n",
       "      <td>32.895324</td>\n",
       "      <td>6.00000</td>\n",
       "      <td>22.0000</td>\n",
       "      <td>38.00000</td>\n",
       "      <td>62.000000</td>\n",
       "      <td>289.00000</td>\n",
       "    </tr>\n",
       "    <tr>\n",
       "      <th>density</th>\n",
       "      <td>1599.0</td>\n",
       "      <td>0.996747</td>\n",
       "      <td>0.001887</td>\n",
       "      <td>0.99007</td>\n",
       "      <td>0.9956</td>\n",
       "      <td>0.99675</td>\n",
       "      <td>0.997835</td>\n",
       "      <td>1.00369</td>\n",
       "    </tr>\n",
       "    <tr>\n",
       "      <th>pH</th>\n",
       "      <td>1599.0</td>\n",
       "      <td>3.311113</td>\n",
       "      <td>0.154386</td>\n",
       "      <td>2.74000</td>\n",
       "      <td>3.2100</td>\n",
       "      <td>3.31000</td>\n",
       "      <td>3.400000</td>\n",
       "      <td>4.01000</td>\n",
       "    </tr>\n",
       "    <tr>\n",
       "      <th>sulphates</th>\n",
       "      <td>1599.0</td>\n",
       "      <td>0.658149</td>\n",
       "      <td>0.169507</td>\n",
       "      <td>0.33000</td>\n",
       "      <td>0.5500</td>\n",
       "      <td>0.62000</td>\n",
       "      <td>0.730000</td>\n",
       "      <td>2.00000</td>\n",
       "    </tr>\n",
       "    <tr>\n",
       "      <th>alcohol</th>\n",
       "      <td>1599.0</td>\n",
       "      <td>10.422983</td>\n",
       "      <td>1.065668</td>\n",
       "      <td>8.40000</td>\n",
       "      <td>9.5000</td>\n",
       "      <td>10.20000</td>\n",
       "      <td>11.100000</td>\n",
       "      <td>14.90000</td>\n",
       "    </tr>\n",
       "    <tr>\n",
       "      <th>quality</th>\n",
       "      <td>1599.0</td>\n",
       "      <td>5.636023</td>\n",
       "      <td>0.807569</td>\n",
       "      <td>3.00000</td>\n",
       "      <td>5.0000</td>\n",
       "      <td>6.00000</td>\n",
       "      <td>6.000000</td>\n",
       "      <td>8.00000</td>\n",
       "    </tr>\n",
       "  </tbody>\n",
       "</table>\n",
       "</div>"
      ],
      "text/plain": [
       "                       count       mean        std      min      25%  \\\n",
       "fixed acidity         1599.0   8.319637   1.741096  4.60000   7.1000   \n",
       "volatile acidity      1599.0   0.527821   0.179060  0.12000   0.3900   \n",
       "citric acid           1599.0   0.270976   0.194801  0.00000   0.0900   \n",
       "residual sugar        1599.0   2.538806   1.409928  0.90000   1.9000   \n",
       "chlorides             1599.0   0.087467   0.047065  0.01200   0.0700   \n",
       "free sulfur dioxide   1599.0  15.874922  10.460157  1.00000   7.0000   \n",
       "total sulfur dioxide  1599.0  46.467792  32.895324  6.00000  22.0000   \n",
       "density               1599.0   0.996747   0.001887  0.99007   0.9956   \n",
       "pH                    1599.0   3.311113   0.154386  2.74000   3.2100   \n",
       "sulphates             1599.0   0.658149   0.169507  0.33000   0.5500   \n",
       "alcohol               1599.0  10.422983   1.065668  8.40000   9.5000   \n",
       "quality               1599.0   5.636023   0.807569  3.00000   5.0000   \n",
       "\n",
       "                           50%        75%        max  \n",
       "fixed acidity          7.90000   9.200000   15.90000  \n",
       "volatile acidity       0.52000   0.640000    1.58000  \n",
       "citric acid            0.26000   0.420000    1.00000  \n",
       "residual sugar         2.20000   2.600000   15.50000  \n",
       "chlorides              0.07900   0.090000    0.61100  \n",
       "free sulfur dioxide   14.00000  21.000000   72.00000  \n",
       "total sulfur dioxide  38.00000  62.000000  289.00000  \n",
       "density                0.99675   0.997835    1.00369  \n",
       "pH                     3.31000   3.400000    4.01000  \n",
       "sulphates              0.62000   0.730000    2.00000  \n",
       "alcohol               10.20000  11.100000   14.90000  \n",
       "quality                6.00000   6.000000    8.00000  "
      ]
     },
     "execution_count": 36,
     "metadata": {},
     "output_type": "execute_result"
    }
   ],
   "source": [
    "df.describe().T"
   ]
  },
  {
   "cell_type": "code",
   "execution_count": 37,
   "id": "e7760433",
   "metadata": {},
   "outputs": [
    {
     "data": {
      "text/plain": [
       "240"
      ]
     },
     "execution_count": 37,
     "metadata": {},
     "output_type": "execute_result"
    }
   ],
   "source": [
    "df.duplicated().sum()\n"
   ]
  },
  {
   "cell_type": "code",
   "execution_count": 38,
   "id": "9de73287",
   "metadata": {},
   "outputs": [],
   "source": [
    "df=df.drop_duplicates()"
   ]
  },
  {
   "cell_type": "code",
   "execution_count": 39,
   "id": "27118ac9",
   "metadata": {},
   "outputs": [
    {
     "data": {
      "text/plain": [
       "0"
      ]
     },
     "execution_count": 39,
     "metadata": {},
     "output_type": "execute_result"
    }
   ],
   "source": [
    "df.duplicated().sum()"
   ]
  },
  {
   "cell_type": "code",
   "execution_count": 40,
   "id": "755d0896",
   "metadata": {},
   "outputs": [],
   "source": [
    "X=df.drop(\"quality\",axis=1)"
   ]
  },
  {
   "cell_type": "code",
   "execution_count": 41,
   "id": "74bbbc84",
   "metadata": {},
   "outputs": [],
   "source": [
    "y=df['quality']"
   ]
  },
  {
   "cell_type": "code",
   "execution_count": 42,
   "id": "94345f61",
   "metadata": {},
   "outputs": [],
   "source": [
    "from sklearn.model_selection import train_test_split,GridSearchCV"
   ]
  },
  {
   "cell_type": "code",
   "execution_count": 43,
   "id": "c9348502",
   "metadata": {},
   "outputs": [],
   "source": [
    "X_train,X_test,y_train,y_test=train_test_split(X,y,test_size=0.33,random_state=10)"
   ]
  },
  {
   "cell_type": "code",
   "execution_count": 44,
   "id": "e0fa3bef",
   "metadata": {},
   "outputs": [
    {
     "data": {
      "text/plain": [
       "'from sklearn.preprocessing import StandardScaler\\nfrom sklearn.preprocessing import StandardScaler\\nsclr = StandardScaler()\\nscr.fit()\\nscr.transform()'"
      ]
     },
     "execution_count": 44,
     "metadata": {},
     "output_type": "execute_result"
    }
   ],
   "source": [
    "'''from sklearn.preprocessing import StandardScaler\n",
    "from sklearn.preprocessing import StandardScaler\n",
    "sclr = StandardScaler()\n",
    "scr.fit()\n",
    "scr.transform()'''\n"
   ]
  },
  {
   "cell_type": "markdown",
   "id": "7fd28f6a",
   "metadata": {},
   "source": [
    "# Ada boost"
   ]
  },
  {
   "cell_type": "code",
   "execution_count": 45,
   "id": "daf1e6e4",
   "metadata": {},
   "outputs": [],
   "source": [
    "from sklearn.ensemble import AdaBoostClassifier"
   ]
  },
  {
   "cell_type": "code",
   "execution_count": 46,
   "id": "e63978ff",
   "metadata": {},
   "outputs": [],
   "source": [
    "model = AdaBoostClassifier()"
   ]
  },
  {
   "cell_type": "code",
   "execution_count": 47,
   "id": "6c50b03e",
   "metadata": {},
   "outputs": [
    {
     "data": {
      "text/plain": [
       "AdaBoostClassifier()"
      ]
     },
     "execution_count": 47,
     "metadata": {},
     "output_type": "execute_result"
    }
   ],
   "source": [
    "model.fit(X_train, y_train)"
   ]
  },
  {
   "cell_type": "code",
   "execution_count": 50,
   "id": "6dbff60b",
   "metadata": {},
   "outputs": [],
   "source": [
    "y_predict = model.predict(X_test)"
   ]
  },
  {
   "cell_type": "code",
   "execution_count": 51,
   "id": "323dd371",
   "metadata": {},
   "outputs": [],
   "source": [
    "from sklearn.metrics import accuracy_score"
   ]
  },
  {
   "cell_type": "code",
   "execution_count": 52,
   "id": "802cc599",
   "metadata": {},
   "outputs": [
    {
     "data": {
      "text/plain": [
       "0.5211581291759465"
      ]
     },
     "execution_count": 52,
     "metadata": {},
     "output_type": "execute_result"
    }
   ],
   "source": [
    "accuracy_score(y_test, y_predict)"
   ]
  },
  {
   "cell_type": "code",
   "execution_count": 53,
   "id": "01df8c8f",
   "metadata": {},
   "outputs": [],
   "source": [
    "# we are tuning three hyperparameters right now, we are passing the different values for both parameters\n",
    "grid_param = {\n",
    "    \"n_estimators\" :  [50.80,100],\n",
    "    \"learning_rate\" : [0.005, 0.02, 0.5]\n",
    "     \n",
    "}"
   ]
  },
  {
   "cell_type": "code",
   "execution_count": 57,
   "id": "f622a228",
   "metadata": {},
   "outputs": [],
   "source": [
    "from sklearn.model_selection import GridSearchCV\n",
    "grid_searh=GridSearchCV(estimator=model,param_grid=grid_param,cv=3,verbose=2, n_jobs=1)"
   ]
  },
  {
   "cell_type": "code",
   "execution_count": 58,
   "id": "b3f931d0",
   "metadata": {},
   "outputs": [
    {
     "name": "stdout",
     "output_type": "stream",
     "text": [
      "Fitting 3 folds for each of 6 candidates, totalling 18 fits\n",
      "[CV] END .............learning_rate=0.005, n_estimators=50.8; total time=   0.0s\n",
      "[CV] END .............learning_rate=0.005, n_estimators=50.8; total time=   0.0s\n",
      "[CV] END .............learning_rate=0.005, n_estimators=50.8; total time=   0.0s\n",
      "[CV] END ..............learning_rate=0.005, n_estimators=100; total time=   0.3s\n",
      "[CV] END ..............learning_rate=0.005, n_estimators=100; total time=   0.3s\n",
      "[CV] END ..............learning_rate=0.005, n_estimators=100; total time=   0.3s\n",
      "[CV] END ..............learning_rate=0.02, n_estimators=50.8; total time=   0.0s\n",
      "[CV] END ..............learning_rate=0.02, n_estimators=50.8; total time=   0.0s\n",
      "[CV] END ..............learning_rate=0.02, n_estimators=50.8; total time=   0.0s\n",
      "[CV] END ...............learning_rate=0.02, n_estimators=100; total time=   0.3s\n",
      "[CV] END ...............learning_rate=0.02, n_estimators=100; total time=   0.4s\n",
      "[CV] END ...............learning_rate=0.02, n_estimators=100; total time=   0.4s\n",
      "[CV] END ...............learning_rate=0.5, n_estimators=50.8; total time=   0.0s\n",
      "[CV] END ...............learning_rate=0.5, n_estimators=50.8; total time=   0.0s\n",
      "[CV] END ...............learning_rate=0.5, n_estimators=50.8; total time=   0.0s\n",
      "[CV] END ................learning_rate=0.5, n_estimators=100; total time=   0.3s\n",
      "[CV] END ................learning_rate=0.5, n_estimators=100; total time=   0.4s\n",
      "[CV] END ................learning_rate=0.5, n_estimators=100; total time=   0.4s\n"
     ]
    },
    {
     "name": "stderr",
     "output_type": "stream",
     "text": [
      "C:\\Users\\admin\\anaconda3\\lib\\site-packages\\sklearn\\model_selection\\_validation.py:372: FitFailedWarning: \n",
      "9 fits failed out of a total of 18.\n",
      "The score on these train-test partitions for these parameters will be set to nan.\n",
      "If these failures are not expected, you can try to debug them by setting error_score='raise'.\n",
      "\n",
      "Below are more details about the failures:\n",
      "--------------------------------------------------------------------------------\n",
      "9 fits failed with the following error:\n",
      "Traceback (most recent call last):\n",
      "  File \"C:\\Users\\admin\\anaconda3\\lib\\site-packages\\sklearn\\model_selection\\_validation.py\", line 680, in _fit_and_score\n",
      "    estimator.fit(X_train, y_train, **fit_params)\n",
      "  File \"C:\\Users\\admin\\anaconda3\\lib\\site-packages\\sklearn\\ensemble\\_weight_boosting.py\", line 486, in fit\n",
      "    return super().fit(X, y, sample_weight)\n",
      "  File \"C:\\Users\\admin\\anaconda3\\lib\\site-packages\\sklearn\\ensemble\\_weight_boosting.py\", line 132, in fit\n",
      "    self._validate_estimator()\n",
      "  File \"C:\\Users\\admin\\anaconda3\\lib\\site-packages\\sklearn\\ensemble\\_weight_boosting.py\", line 490, in _validate_estimator\n",
      "    super()._validate_estimator(default=DecisionTreeClassifier(max_depth=1))\n",
      "  File \"C:\\Users\\admin\\anaconda3\\lib\\site-packages\\sklearn\\ensemble\\_base.py\", line 131, in _validate_estimator\n",
      "    raise ValueError(\n",
      "ValueError: n_estimators must be an integer, got <class 'float'>.\n",
      "\n",
      "  warnings.warn(some_fits_failed_message, FitFailedWarning)\n",
      "C:\\Users\\admin\\anaconda3\\lib\\site-packages\\sklearn\\model_selection\\_search.py:969: UserWarning: One or more of the test scores are non-finite: [       nan 0.56922732        nan 0.52088038        nan 0.36480951]\n",
      "  warnings.warn(\n"
     ]
    },
    {
     "data": {
      "text/plain": [
       "GridSearchCV(cv=3, estimator=AdaBoostClassifier(), n_jobs=1,\n",
       "             param_grid={'learning_rate': [0.005, 0.02, 0.5],\n",
       "                         'n_estimators': [50.8, 100]},\n",
       "             verbose=2)"
      ]
     },
     "execution_count": 58,
     "metadata": {},
     "output_type": "execute_result"
    }
   ],
   "source": [
    "grid_searh.fit(X_train, y_train)"
   ]
  },
  {
   "cell_type": "code",
   "execution_count": 59,
   "id": "18cd057c",
   "metadata": {},
   "outputs": [
    {
     "data": {
      "text/plain": [
       "{'learning_rate': 0.005, 'n_estimators': 100}"
      ]
     },
     "execution_count": 59,
     "metadata": {},
     "output_type": "execute_result"
    }
   ],
   "source": [
    "grid_searh.best_params_"
   ]
  },
  {
   "cell_type": "code",
   "execution_count": 77,
   "id": "b19523b1",
   "metadata": {},
   "outputs": [],
   "source": [
    "hyp_model = AdaBoostClassifier(learning_rate = 0.005, n_estimators = 100)"
   ]
  },
  {
   "cell_type": "code",
   "execution_count": 78,
   "id": "363c7c8a",
   "metadata": {},
   "outputs": [
    {
     "data": {
      "text/plain": [
       "AdaBoostClassifier(learning_rate=0.005, n_estimators=100)"
      ]
     },
     "execution_count": 78,
     "metadata": {},
     "output_type": "execute_result"
    }
   ],
   "source": [
    "hyp_model.fit(X_train,y_train)"
   ]
  },
  {
   "cell_type": "code",
   "execution_count": 79,
   "id": "c4ece8cb",
   "metadata": {},
   "outputs": [],
   "source": [
    "y_pred_hyp=hyp_model.predict(X_test)"
   ]
  },
  {
   "cell_type": "code",
   "execution_count": 80,
   "id": "f38c15ee",
   "metadata": {},
   "outputs": [
    {
     "data": {
      "text/plain": [
       "0.5367483296213809"
      ]
     },
     "execution_count": 80,
     "metadata": {},
     "output_type": "execute_result"
    }
   ],
   "source": [
    "accuracy_score(y_test, y_pred_hyp)"
   ]
  },
  {
   "cell_type": "code",
   "execution_count": null,
   "id": "305246f7",
   "metadata": {},
   "outputs": [],
   "source": []
  },
  {
   "cell_type": "code",
   "execution_count": null,
   "id": "86717f67",
   "metadata": {},
   "outputs": [],
   "source": []
  },
  {
   "cell_type": "code",
   "execution_count": null,
   "id": "e2ec13fe",
   "metadata": {},
   "outputs": [],
   "source": []
  },
  {
   "cell_type": "code",
   "execution_count": null,
   "id": "f6281733",
   "metadata": {},
   "outputs": [],
   "source": []
  },
  {
   "cell_type": "code",
   "execution_count": null,
   "id": "1aac0129",
   "metadata": {},
   "outputs": [],
   "source": []
  },
  {
   "cell_type": "code",
   "execution_count": null,
   "id": "3b3f838a",
   "metadata": {},
   "outputs": [],
   "source": []
  },
  {
   "cell_type": "code",
   "execution_count": null,
   "id": "6b49d141",
   "metadata": {},
   "outputs": [],
   "source": []
  },
  {
   "cell_type": "code",
   "execution_count": null,
   "id": "dd158492",
   "metadata": {},
   "outputs": [],
   "source": []
  },
  {
   "cell_type": "code",
   "execution_count": null,
   "id": "2b3126e8",
   "metadata": {},
   "outputs": [],
   "source": []
  },
  {
   "cell_type": "code",
   "execution_count": null,
   "id": "30a36537",
   "metadata": {},
   "outputs": [],
   "source": []
  },
  {
   "cell_type": "code",
   "execution_count": null,
   "id": "6617cef6",
   "metadata": {},
   "outputs": [],
   "source": []
  },
  {
   "cell_type": "code",
   "execution_count": null,
   "id": "28b3079e",
   "metadata": {},
   "outputs": [],
   "source": []
  },
  {
   "cell_type": "code",
   "execution_count": null,
   "id": "82978e4f",
   "metadata": {},
   "outputs": [],
   "source": []
  },
  {
   "cell_type": "code",
   "execution_count": null,
   "id": "cba6fdbd",
   "metadata": {},
   "outputs": [],
   "source": []
  },
  {
   "cell_type": "code",
   "execution_count": null,
   "id": "381c4ff7",
   "metadata": {},
   "outputs": [],
   "source": []
  },
  {
   "cell_type": "code",
   "execution_count": null,
   "id": "8dcbc894",
   "metadata": {},
   "outputs": [],
   "source": []
  },
  {
   "cell_type": "code",
   "execution_count": null,
   "id": "33314624",
   "metadata": {},
   "outputs": [],
   "source": []
  },
  {
   "cell_type": "code",
   "execution_count": null,
   "id": "8cf25d9d",
   "metadata": {},
   "outputs": [],
   "source": []
  },
  {
   "cell_type": "code",
   "execution_count": null,
   "id": "e7979acb",
   "metadata": {},
   "outputs": [],
   "source": []
  },
  {
   "cell_type": "code",
   "execution_count": null,
   "id": "b18b0bb2",
   "metadata": {},
   "outputs": [],
   "source": []
  },
  {
   "cell_type": "code",
   "execution_count": null,
   "id": "603a7bfb",
   "metadata": {},
   "outputs": [],
   "source": []
  },
  {
   "cell_type": "code",
   "execution_count": null,
   "id": "90312a05",
   "metadata": {},
   "outputs": [],
   "source": []
  },
  {
   "cell_type": "code",
   "execution_count": null,
   "id": "c657cd2e",
   "metadata": {},
   "outputs": [],
   "source": []
  },
  {
   "cell_type": "code",
   "execution_count": null,
   "id": "36277cae",
   "metadata": {},
   "outputs": [],
   "source": []
  },
  {
   "cell_type": "code",
   "execution_count": null,
   "id": "6dd4b337",
   "metadata": {},
   "outputs": [],
   "source": []
  },
  {
   "cell_type": "code",
   "execution_count": null,
   "id": "4fee0794",
   "metadata": {},
   "outputs": [],
   "source": []
  },
  {
   "cell_type": "code",
   "execution_count": null,
   "id": "5b5cb64e",
   "metadata": {},
   "outputs": [],
   "source": []
  },
  {
   "cell_type": "code",
   "execution_count": null,
   "id": "83ea2842",
   "metadata": {},
   "outputs": [],
   "source": []
  },
  {
   "cell_type": "code",
   "execution_count": null,
   "id": "05c1bc6f",
   "metadata": {},
   "outputs": [],
   "source": []
  },
  {
   "cell_type": "code",
   "execution_count": null,
   "id": "258f99ed",
   "metadata": {},
   "outputs": [],
   "source": []
  },
  {
   "cell_type": "code",
   "execution_count": null,
   "id": "d8957766",
   "metadata": {},
   "outputs": [],
   "source": []
  },
  {
   "cell_type": "code",
   "execution_count": null,
   "id": "7330e640",
   "metadata": {},
   "outputs": [],
   "source": []
  },
  {
   "cell_type": "code",
   "execution_count": null,
   "id": "4db63101",
   "metadata": {},
   "outputs": [],
   "source": []
  },
  {
   "cell_type": "code",
   "execution_count": null,
   "id": "ff2e748f",
   "metadata": {},
   "outputs": [],
   "source": []
  },
  {
   "cell_type": "code",
   "execution_count": null,
   "id": "d7511142",
   "metadata": {},
   "outputs": [],
   "source": []
  },
  {
   "cell_type": "code",
   "execution_count": 19,
   "id": "524d4bfd",
   "metadata": {},
   "outputs": [],
   "source": [
    "from sklearn.tree import DecisionTreeClassifier\n",
    "model=DecisionTreeClassifier()"
   ]
  },
  {
   "cell_type": "code",
   "execution_count": 20,
   "id": "0848587c",
   "metadata": {},
   "outputs": [
    {
     "data": {
      "text/plain": [
       "DecisionTreeClassifier()"
      ]
     },
     "execution_count": 20,
     "metadata": {},
     "output_type": "execute_result"
    }
   ],
   "source": [
    "model.fit(X_train,y_train)"
   ]
  },
  {
   "cell_type": "code",
   "execution_count": 21,
   "id": "c3e574bf",
   "metadata": {},
   "outputs": [
    {
     "data": {
      "text/plain": [
       "1.0"
      ]
     },
     "execution_count": 21,
     "metadata": {},
     "output_type": "execute_result"
    }
   ],
   "source": [
    "model.score(X_train,y_train)"
   ]
  },
  {
   "cell_type": "code",
   "execution_count": 22,
   "id": "503511e0",
   "metadata": {},
   "outputs": [
    {
     "data": {
      "text/plain": [
       "[Text(0.49724883480062143, 0.9705882352941176, 'X[10] <= 10.15\\ngini = 0.645\\nsamples = 910\\nvalue = [7, 31, 389, 359, 114, 10]'),\n",
       " Text(0.22760227861211807, 0.9117647058823529, 'X[6] <= 62.5\\ngini = 0.495\\nsamples = 459\\nvalue = [3, 15, 298, 131, 12, 0]'),\n",
       " Text(0.12079233557742103, 0.8529411764705882, 'X[1] <= 0.548\\ngini = 0.571\\nsamples = 282\\nvalue = [3, 11, 151, 105, 12, 0]'),\n",
       " Text(0.06233816675297773, 0.7941176470588235, 'X[9] <= 0.585\\ngini = 0.596\\nsamples = 136\\nvalue = [1, 4, 52, 68, 11, 0]'),\n",
       " Text(0.020714655618850338, 0.7352941176470589, 'X[7] <= 0.996\\ngini = 0.512\\nsamples = 44\\nvalue = [0, 4, 28, 12, 0, 0]'),\n",
       " Text(0.008285862247540134, 0.6764705882352942, 'X[10] <= 9.125\\ngini = 0.245\\nsamples = 14\\nvalue = [0, 2, 12, 0, 0, 0]'),\n",
       " Text(0.004142931123770067, 0.6176470588235294, 'gini = 0.0\\nsamples = 1\\nvalue = [0, 1, 0, 0, 0, 0]'),\n",
       " Text(0.012428793371310202, 0.6176470588235294, 'X[8] <= 3.425\\ngini = 0.142\\nsamples = 13\\nvalue = [0, 1, 12, 0, 0, 0]'),\n",
       " Text(0.008285862247540134, 0.5588235294117647, 'gini = 0.0\\nsamples = 11\\nvalue = [0, 0, 11, 0, 0, 0]'),\n",
       " Text(0.016571724495080268, 0.5588235294117647, 'X[4] <= 0.069\\ngini = 0.5\\nsamples = 2\\nvalue = [0, 1, 1, 0, 0, 0]'),\n",
       " Text(0.012428793371310202, 0.5, 'gini = 0.0\\nsamples = 1\\nvalue = [0, 1, 0, 0, 0, 0]'),\n",
       " Text(0.020714655618850338, 0.5, 'gini = 0.0\\nsamples = 1\\nvalue = [0, 0, 1, 0, 0, 0]'),\n",
       " Text(0.033143448990160536, 0.6764705882352942, 'X[7] <= 0.996\\ngini = 0.551\\nsamples = 30\\nvalue = [0, 2, 16, 12, 0, 0]'),\n",
       " Text(0.02900051786639047, 0.6176470588235294, 'gini = 0.0\\nsamples = 3\\nvalue = [0, 0, 0, 3, 0, 0]'),\n",
       " Text(0.03728638011393061, 0.6176470588235294, 'X[6] <= 59.0\\ngini = 0.532\\nsamples = 27\\nvalue = [0, 2, 16, 9, 0, 0]'),\n",
       " Text(0.033143448990160536, 0.5588235294117647, 'X[3] <= 3.9\\ngini = 0.506\\nsamples = 25\\nvalue = [0, 2, 16, 7, 0, 0]'),\n",
       " Text(0.02900051786639047, 0.5, 'X[3] <= 1.95\\ngini = 0.469\\nsamples = 24\\nvalue = [0, 1, 16, 7, 0, 0]'),\n",
       " Text(0.024857586742620404, 0.4411764705882353, 'gini = 0.0\\nsamples = 5\\nvalue = [0, 0, 5, 0, 0, 0]'),\n",
       " Text(0.033143448990160536, 0.4411764705882353, 'X[10] <= 9.05\\ngini = 0.526\\nsamples = 19\\nvalue = [0, 1, 11, 7, 0, 0]'),\n",
       " Text(0.02900051786639047, 0.38235294117647056, 'gini = 0.0\\nsamples = 2\\nvalue = [0, 0, 0, 2, 0, 0]'),\n",
       " Text(0.03728638011393061, 0.38235294117647056, 'X[0] <= 10.65\\ngini = 0.491\\nsamples = 17\\nvalue = [0, 1, 11, 5, 0, 0]'),\n",
       " Text(0.033143448990160536, 0.3235294117647059, 'X[2] <= 0.15\\ngini = 0.569\\nsamples = 12\\nvalue = [0, 1, 6, 5, 0, 0]'),\n",
       " Text(0.02900051786639047, 0.2647058823529412, 'gini = 0.0\\nsamples = 3\\nvalue = [0, 0, 3, 0, 0, 0]'),\n",
       " Text(0.03728638011393061, 0.2647058823529412, 'X[7] <= 0.998\\ngini = 0.568\\nsamples = 9\\nvalue = [0, 1, 3, 5, 0, 0]'),\n",
       " Text(0.033143448990160536, 0.20588235294117646, 'gini = 0.0\\nsamples = 4\\nvalue = [0, 0, 0, 4, 0, 0]'),\n",
       " Text(0.041429311237700675, 0.20588235294117646, 'X[0] <= 9.7\\ngini = 0.56\\nsamples = 5\\nvalue = [0, 1, 3, 1, 0, 0]'),\n",
       " Text(0.03728638011393061, 0.14705882352941177, 'gini = 0.0\\nsamples = 3\\nvalue = [0, 0, 3, 0, 0, 0]'),\n",
       " Text(0.04557224236147074, 0.14705882352941177, 'X[4] <= 0.102\\ngini = 0.5\\nsamples = 2\\nvalue = [0, 1, 0, 1, 0, 0]'),\n",
       " Text(0.041429311237700675, 0.08823529411764706, 'gini = 0.0\\nsamples = 1\\nvalue = [0, 0, 0, 1, 0, 0]'),\n",
       " Text(0.04971517348524081, 0.08823529411764706, 'gini = 0.0\\nsamples = 1\\nvalue = [0, 1, 0, 0, 0, 0]'),\n",
       " Text(0.041429311237700675, 0.3235294117647059, 'gini = 0.0\\nsamples = 5\\nvalue = [0, 0, 5, 0, 0, 0]'),\n",
       " Text(0.03728638011393061, 0.5, 'gini = 0.0\\nsamples = 1\\nvalue = [0, 1, 0, 0, 0, 0]'),\n",
       " Text(0.041429311237700675, 0.5588235294117647, 'gini = 0.0\\nsamples = 2\\nvalue = [0, 0, 0, 2, 0, 0]'),\n",
       " Text(0.10396167788710513, 0.7352941176470589, 'X[7] <= 0.996\\ngini = 0.547\\nsamples = 92\\nvalue = [1, 0, 24, 56, 11, 0]'),\n",
       " Text(0.09981874676333506, 0.6764705882352942, 'gini = 0.0\\nsamples = 2\\nvalue = [0, 0, 0, 0, 2, 0]'),\n",
       " Text(0.1081046090108752, 0.6764705882352942, 'X[0] <= 11.35\\ngini = 0.532\\nsamples = 90\\nvalue = [1, 0, 24, 56, 9, 0]'),\n",
       " Text(0.0877783531848783, 0.6176470588235294, 'X[10] <= 9.95\\ngini = 0.533\\nsamples = 75\\nvalue = [1, 0, 24, 45, 5, 0]'),\n",
       " Text(0.05955463490419472, 0.5588235294117647, 'X[9] <= 0.615\\ngini = 0.531\\nsamples = 60\\nvalue = [1, 0, 23, 34, 2, 0]'),\n",
       " Text(0.04557224236147074, 0.5, 'X[10] <= 9.6\\ngini = 0.245\\nsamples = 7\\nvalue = [0, 0, 0, 6, 1, 0]'),\n",
       " Text(0.041429311237700675, 0.4411764705882353, 'gini = 0.0\\nsamples = 6\\nvalue = [0, 0, 0, 6, 0, 0]'),\n",
       " Text(0.04971517348524081, 0.4411764705882353, 'gini = 0.0\\nsamples = 1\\nvalue = [0, 0, 0, 0, 1, 0]'),\n",
       " Text(0.0735370274469187, 0.5, 'X[9] <= 0.645\\ngini = 0.532\\nsamples = 53\\nvalue = [1, 0, 23, 28, 1, 0]'),\n",
       " Text(0.05800103573278094, 0.4411764705882353, 'X[4] <= 0.164\\ngini = 0.461\\nsamples = 16\\nvalue = [0, 0, 11, 4, 1, 0]'),\n",
       " Text(0.05385810460901087, 0.38235294117647056, 'X[8] <= 3.395\\ngini = 0.357\\nsamples = 14\\nvalue = [0, 0, 11, 2, 1, 0]'),\n",
       " Text(0.04971517348524081, 0.3235294117647059, 'X[1] <= 0.51\\ngini = 0.153\\nsamples = 12\\nvalue = [0, 0, 11, 0, 1, 0]'),\n",
       " Text(0.04557224236147074, 0.2647058823529412, 'gini = 0.0\\nsamples = 10\\nvalue = [0, 0, 10, 0, 0, 0]'),\n",
       " Text(0.05385810460901087, 0.2647058823529412, 'X[0] <= 8.7\\ngini = 0.5\\nsamples = 2\\nvalue = [0, 0, 1, 0, 1, 0]'),\n",
       " Text(0.04971517348524081, 0.20588235294117646, 'gini = 0.0\\nsamples = 1\\nvalue = [0, 0, 0, 0, 1, 0]'),\n",
       " Text(0.05800103573278094, 0.20588235294117646, 'gini = 0.0\\nsamples = 1\\nvalue = [0, 0, 1, 0, 0, 0]'),\n",
       " Text(0.05800103573278094, 0.3235294117647059, 'gini = 0.0\\nsamples = 2\\nvalue = [0, 0, 0, 2, 0, 0]'),\n",
       " Text(0.06214396685655101, 0.38235294117647056, 'gini = 0.0\\nsamples = 2\\nvalue = [0, 0, 0, 2, 0, 0]'),\n",
       " Text(0.08907301916105645, 0.4411764705882353, 'X[4] <= 0.084\\ngini = 0.473\\nsamples = 37\\nvalue = [1, 0, 12, 24, 0, 0]'),\n",
       " Text(0.07457276022786122, 0.38235294117647056, 'X[5] <= 22.5\\ngini = 0.278\\nsamples = 18\\nvalue = [0, 0, 3, 15, 0, 0]'),\n",
       " Text(0.06628689798032107, 0.3235294117647059, 'X[5] <= 4.0\\ngini = 0.124\\nsamples = 15\\nvalue = [0, 0, 1, 14, 0, 0]'),\n",
       " Text(0.06214396685655101, 0.2647058823529412, 'gini = 0.0\\nsamples = 1\\nvalue = [0, 0, 1, 0, 0, 0]'),\n",
       " Text(0.07042982910409114, 0.2647058823529412, 'gini = 0.0\\nsamples = 14\\nvalue = [0, 0, 0, 14, 0, 0]'),\n",
       " Text(0.08285862247540135, 0.3235294117647059, 'X[10] <= 9.0\\ngini = 0.444\\nsamples = 3\\nvalue = [0, 0, 2, 1, 0, 0]'),\n",
       " Text(0.07871569135163128, 0.2647058823529412, 'gini = 0.0\\nsamples = 1\\nvalue = [0, 0, 0, 1, 0, 0]'),\n",
       " Text(0.08700155359917142, 0.2647058823529412, 'gini = 0.0\\nsamples = 2\\nvalue = [0, 0, 2, 0, 0, 0]'),\n",
       " Text(0.10357327809425168, 0.38235294117647056, 'X[7] <= 0.998\\ngini = 0.548\\nsamples = 19\\nvalue = [1, 0, 9, 9, 0, 0]'),\n",
       " Text(0.09943034697048161, 0.3235294117647059, 'X[0] <= 7.6\\ngini = 0.524\\nsamples = 15\\nvalue = [1, 0, 5, 9, 0, 0]'),\n",
       " Text(0.09528741584671155, 0.2647058823529412, 'gini = 0.0\\nsamples = 3\\nvalue = [0, 0, 3, 0, 0, 0]'),\n",
       " Text(0.10357327809425168, 0.2647058823529412, 'X[9] <= 1.09\\ngini = 0.403\\nsamples = 12\\nvalue = [1, 0, 2, 9, 0, 0]'),\n",
       " Text(0.09943034697048161, 0.20588235294117646, 'X[7] <= 0.998\\ngini = 0.18\\nsamples = 10\\nvalue = [1, 0, 0, 9, 0, 0]'),\n",
       " Text(0.09528741584671155, 0.14705882352941177, 'gini = 0.0\\nsamples = 9\\nvalue = [0, 0, 0, 9, 0, 0]'),\n",
       " Text(0.10357327809425168, 0.14705882352941177, 'gini = 0.0\\nsamples = 1\\nvalue = [1, 0, 0, 0, 0, 0]'),\n",
       " Text(0.10771620921802175, 0.20588235294117646, 'gini = 0.0\\nsamples = 2\\nvalue = [0, 0, 2, 0, 0, 0]'),\n",
       " Text(0.10771620921802175, 0.3235294117647059, 'gini = 0.0\\nsamples = 4\\nvalue = [0, 0, 4, 0, 0, 0]'),\n",
       " Text(0.11600207146556188, 0.5588235294117647, 'X[6] <= 46.5\\ngini = 0.418\\nsamples = 15\\nvalue = [0, 0, 1, 11, 3, 0]'),\n",
       " Text(0.11185914034179181, 0.5, 'gini = 0.0\\nsamples = 10\\nvalue = [0, 0, 0, 10, 0, 0]'),\n",
       " Text(0.12014500258933196, 0.5, 'X[7] <= 0.997\\ngini = 0.56\\nsamples = 5\\nvalue = [0, 0, 1, 1, 3, 0]'),\n",
       " Text(0.11600207146556188, 0.4411764705882353, 'X[9] <= 0.6\\ngini = 0.5\\nsamples = 2\\nvalue = [0, 0, 1, 1, 0, 0]'),\n",
       " Text(0.11185914034179181, 0.38235294117647056, 'gini = 0.0\\nsamples = 1\\nvalue = [0, 0, 1, 0, 0, 0]'),\n",
       " Text(0.12014500258933196, 0.38235294117647056, 'gini = 0.0\\nsamples = 1\\nvalue = [0, 0, 0, 1, 0, 0]'),\n",
       " Text(0.12428793371310203, 0.4411764705882353, 'gini = 0.0\\nsamples = 3\\nvalue = [0, 0, 0, 0, 3, 0]'),\n",
       " Text(0.12843086483687208, 0.6176470588235294, 'X[5] <= 8.0\\ngini = 0.391\\nsamples = 15\\nvalue = [0, 0, 0, 11, 4, 0]'),\n",
       " Text(0.12428793371310203, 0.5588235294117647, 'gini = 0.0\\nsamples = 8\\nvalue = [0, 0, 0, 8, 0, 0]'),\n",
       " Text(0.13257379596064214, 0.5588235294117647, 'X[1] <= 0.295\\ngini = 0.49\\nsamples = 7\\nvalue = [0, 0, 0, 3, 4, 0]'),\n",
       " Text(0.12843086483687208, 0.5, 'gini = 0.0\\nsamples = 3\\nvalue = [0, 0, 0, 0, 3, 0]'),\n",
       " Text(0.1367167270844122, 0.5, 'X[1] <= 0.395\\ngini = 0.375\\nsamples = 4\\nvalue = [0, 0, 0, 3, 1, 0]'),\n",
       " Text(0.13257379596064214, 0.4411764705882353, 'gini = 0.0\\nsamples = 3\\nvalue = [0, 0, 0, 3, 0, 0]'),\n",
       " Text(0.14085965820818228, 0.4411764705882353, 'gini = 0.0\\nsamples = 1\\nvalue = [0, 0, 0, 0, 1, 0]'),\n",
       " Text(0.17924650440186432, 0.7941176470588235, 'X[7] <= 0.996\\ngini = 0.473\\nsamples = 146\\nvalue = [2, 7, 99, 37, 1, 0]'),\n",
       " Text(0.14914552045572244, 0.7352941176470589, 'X[10] <= 9.15\\ngini = 0.176\\nsamples = 32\\nvalue = [1, 1, 29, 1, 0, 0]'),\n",
       " Text(0.14085965820818228, 0.6764705882352942, 'X[3] <= 1.5\\ngini = 0.5\\nsamples = 2\\nvalue = [0, 1, 0, 1, 0, 0]'),\n",
       " Text(0.1367167270844122, 0.6176470588235294, 'gini = 0.0\\nsamples = 1\\nvalue = [0, 0, 0, 1, 0, 0]'),\n",
       " Text(0.14500258933195237, 0.6176470588235294, 'gini = 0.0\\nsamples = 1\\nvalue = [0, 1, 0, 0, 0, 0]'),\n",
       " Text(0.15743138270326257, 0.6764705882352942, 'X[8] <= 3.515\\ngini = 0.064\\nsamples = 30\\nvalue = [1, 0, 29, 0, 0, 0]'),\n",
       " Text(0.1532884515794925, 0.6176470588235294, 'gini = 0.0\\nsamples = 28\\nvalue = [0, 0, 28, 0, 0, 0]'),\n",
       " Text(0.16157431382703263, 0.6176470588235294, 'X[5] <= 11.0\\ngini = 0.5\\nsamples = 2\\nvalue = [1, 0, 1, 0, 0, 0]'),\n",
       " Text(0.15743138270326257, 0.5588235294117647, 'gini = 0.0\\nsamples = 1\\nvalue = [1, 0, 0, 0, 0, 0]'),\n",
       " Text(0.1657172449508027, 0.5588235294117647, 'gini = 0.0\\nsamples = 1\\nvalue = [0, 0, 1, 0, 0, 0]'),\n",
       " Text(0.2093474883480062, 0.7352941176470589, 'X[10] <= 9.95\\ngini = 0.52\\nsamples = 114\\nvalue = [1, 6, 70, 36, 1, 0]'),\n",
       " Text(0.18928016571724496, 0.6764705882352942, 'X[8] <= 3.195\\ngini = 0.487\\nsamples = 95\\nvalue = [1, 6, 63, 25, 0, 0]'),\n",
       " Text(0.1851372345934749, 0.6176470588235294, 'gini = 0.0\\nsamples = 10\\nvalue = [0, 0, 10, 0, 0, 0]'),\n",
       " Text(0.19342309684101502, 0.6176470588235294, 'X[1] <= 0.688\\ngini = 0.52\\nsamples = 85\\nvalue = [1, 6, 53, 25, 0, 0]'),\n",
       " Text(0.17400310719834283, 0.5588235294117647, 'X[2] <= 0.28\\ngini = 0.544\\nsamples = 54\\nvalue = [1, 2, 29, 22, 0, 0]'),\n",
       " Text(0.16209218021750388, 0.5, 'X[9] <= 0.535\\ngini = 0.491\\nsamples = 51\\nvalue = [0, 0, 29, 22, 0, 0]'),\n",
       " Text(0.1506991196271362, 0.4411764705882353, 'X[10] <= 9.7\\ngini = 0.219\\nsamples = 8\\nvalue = [0, 0, 7, 1, 0, 0]'),\n",
       " Text(0.14655618850336613, 0.38235294117647056, 'gini = 0.0\\nsamples = 7\\nvalue = [0, 0, 7, 0, 0, 0]'),\n",
       " Text(0.15484205075090626, 0.38235294117647056, 'gini = 0.0\\nsamples = 1\\nvalue = [0, 0, 0, 1, 0, 0]'),\n",
       " Text(0.17348524080787156, 0.4411764705882353, 'X[2] <= 0.17\\ngini = 0.5\\nsamples = 43\\nvalue = [0, 0, 22, 21, 0, 0]'),\n",
       " Text(0.1631279129984464, 0.38235294117647056, 'X[0] <= 6.95\\ngini = 0.489\\nsamples = 33\\nvalue = [0, 0, 14, 19, 0, 0]'),\n",
       " Text(0.15484205075090626, 0.3235294117647059, 'X[7] <= 0.997\\ngini = 0.278\\nsamples = 6\\nvalue = [0, 0, 5, 1, 0, 0]'),\n",
       " Text(0.1506991196271362, 0.2647058823529412, 'gini = 0.0\\nsamples = 1\\nvalue = [0, 0, 0, 1, 0, 0]'),\n",
       " Text(0.15898498187467633, 0.2647058823529412, 'gini = 0.0\\nsamples = 5\\nvalue = [0, 0, 5, 0, 0, 0]'),\n",
       " Text(0.17141377524598653, 0.3235294117647059, 'X[7] <= 0.997\\ngini = 0.444\\nsamples = 27\\nvalue = [0, 0, 9, 18, 0, 0]'),\n",
       " Text(0.16727084412221646, 0.2647058823529412, 'gini = 0.0\\nsamples = 10\\nvalue = [0, 0, 0, 10, 0, 0]'),\n",
       " Text(0.1755567063697566, 0.2647058823529412, 'X[0] <= 7.25\\ngini = 0.498\\nsamples = 17\\nvalue = [0, 0, 9, 8, 0, 0]'),\n",
       " Text(0.17141377524598653, 0.20588235294117646, 'gini = 0.0\\nsamples = 4\\nvalue = [0, 0, 4, 0, 0, 0]'),\n",
       " Text(0.17969963749352666, 0.20588235294117646, 'X[8] <= 3.3\\ngini = 0.473\\nsamples = 13\\nvalue = [0, 0, 5, 8, 0, 0]'),\n",
       " Text(0.1755567063697566, 0.14705882352941177, 'gini = 0.0\\nsamples = 2\\nvalue = [0, 0, 2, 0, 0, 0]'),\n",
       " Text(0.18384256861729673, 0.14705882352941177, 'X[4] <= 0.077\\ngini = 0.397\\nsamples = 11\\nvalue = [0, 0, 3, 8, 0, 0]'),\n",
       " Text(0.17969963749352666, 0.08823529411764706, 'gini = 0.0\\nsamples = 2\\nvalue = [0, 0, 2, 0, 0, 0]'),\n",
       " Text(0.1879854997410668, 0.08823529411764706, 'X[6] <= 11.5\\ngini = 0.198\\nsamples = 9\\nvalue = [0, 0, 1, 8, 0, 0]'),\n",
       " Text(0.18384256861729673, 0.029411764705882353, 'gini = 0.0\\nsamples = 1\\nvalue = [0, 0, 1, 0, 0, 0]'),\n",
       " Text(0.19212843086483689, 0.029411764705882353, 'gini = 0.0\\nsamples = 8\\nvalue = [0, 0, 0, 8, 0, 0]'),\n",
       " Text(0.18384256861729673, 0.38235294117647056, 'X[1] <= 0.555\\ngini = 0.32\\nsamples = 10\\nvalue = [0, 0, 8, 2, 0, 0]'),\n",
       " Text(0.17969963749352666, 0.3235294117647059, 'gini = 0.0\\nsamples = 1\\nvalue = [0, 0, 0, 1, 0, 0]'),\n",
       " Text(0.1879854997410668, 0.3235294117647059, 'X[6] <= 61.0\\ngini = 0.198\\nsamples = 9\\nvalue = [0, 0, 8, 1, 0, 0]'),\n",
       " Text(0.18384256861729673, 0.2647058823529412, 'gini = 0.0\\nsamples = 8\\nvalue = [0, 0, 8, 0, 0, 0]'),\n",
       " Text(0.19212843086483689, 0.2647058823529412, 'gini = 0.0\\nsamples = 1\\nvalue = [0, 0, 0, 1, 0, 0]'),\n",
       " Text(0.18591403417918176, 0.5, 'X[8] <= 3.255\\ngini = 0.444\\nsamples = 3\\nvalue = [1, 2, 0, 0, 0, 0]'),\n",
       " Text(0.1817711030554117, 0.4411764705882353, 'gini = 0.0\\nsamples = 1\\nvalue = [1, 0, 0, 0, 0, 0]'),\n",
       " Text(0.19005696530295182, 0.4411764705882353, 'gini = 0.0\\nsamples = 2\\nvalue = [0, 2, 0, 0, 0, 0]'),\n",
       " Text(0.21284308648368722, 0.5588235294117647, 'X[9] <= 0.465\\ngini = 0.375\\nsamples = 31\\nvalue = [0, 4, 24, 3, 0, 0]'),\n",
       " Text(0.20870015535991715, 0.5, 'gini = 0.0\\nsamples = 2\\nvalue = [0, 2, 0, 0, 0, 0]'),\n",
       " Text(0.21698601760745728, 0.5, 'X[0] <= 8.75\\ngini = 0.3\\nsamples = 29\\nvalue = [0, 2, 24, 3, 0, 0]'),\n",
       " Text(0.20455722423614708, 0.4411764705882353, 'X[4] <= 0.065\\ngini = 0.15\\nsamples = 25\\nvalue = [0, 1, 23, 1, 0, 0]'),\n",
       " Text(0.20041429311237702, 0.38235294117647056, 'gini = 0.0\\nsamples = 1\\nvalue = [0, 0, 0, 1, 0, 0]'),\n",
       " Text(0.20870015535991715, 0.38235294117647056, 'X[6] <= 12.5\\ngini = 0.08\\nsamples = 24\\nvalue = [0, 1, 23, 0, 0, 0]'),\n",
       " Text(0.20455722423614708, 0.3235294117647059, 'X[1] <= 0.827\\ngini = 0.5\\nsamples = 2\\nvalue = [0, 1, 1, 0, 0, 0]'),\n",
       " Text(0.20041429311237702, 0.2647058823529412, 'gini = 0.0\\nsamples = 1\\nvalue = [0, 1, 0, 0, 0, 0]'),\n",
       " Text(0.20870015535991715, 0.2647058823529412, 'gini = 0.0\\nsamples = 1\\nvalue = [0, 0, 1, 0, 0, 0]'),\n",
       " Text(0.21284308648368722, 0.3235294117647059, 'gini = 0.0\\nsamples = 22\\nvalue = [0, 0, 22, 0, 0, 0]'),\n",
       " Text(0.22941481097876748, 0.4411764705882353, 'X[3] <= 2.45\\ngini = 0.625\\nsamples = 4\\nvalue = [0, 1, 1, 2, 0, 0]'),\n",
       " Text(0.22527187985499741, 0.38235294117647056, 'X[5] <= 11.5\\ngini = 0.5\\nsamples = 2\\nvalue = [0, 1, 1, 0, 0, 0]'),\n",
       " Text(0.22112894873122735, 0.3235294117647059, 'gini = 0.0\\nsamples = 1\\nvalue = [0, 1, 0, 0, 0, 0]'),\n",
       " Text(0.22941481097876748, 0.3235294117647059, 'gini = 0.0\\nsamples = 1\\nvalue = [0, 0, 1, 0, 0, 0]'),\n",
       " Text(0.23355774210253755, 0.38235294117647056, 'gini = 0.0\\nsamples = 2\\nvalue = [0, 0, 0, 2, 0, 0]'),\n",
       " Text(0.22941481097876748, 0.6764705882352942, 'X[7] <= 0.997\\ngini = 0.526\\nsamples = 19\\nvalue = [0, 0, 7, 11, 1, 0]'),\n",
       " Text(0.22527187985499741, 0.6176470588235294, 'gini = 0.0\\nsamples = 6\\nvalue = [0, 0, 0, 6, 0, 0]'),\n",
       " Text(0.23355774210253755, 0.6176470588235294, 'X[7] <= 0.998\\ngini = 0.556\\nsamples = 13\\nvalue = [0, 0, 7, 5, 1, 0]'),\n",
       " Text(0.22941481097876748, 0.5588235294117647, 'gini = 0.0\\nsamples = 5\\nvalue = [0, 0, 5, 0, 0, 0]'),\n",
       " Text(0.2377006732263076, 0.5588235294117647, 'X[7] <= 0.999\\ngini = 0.531\\nsamples = 8\\nvalue = [0, 0, 2, 5, 1, 0]'),\n",
       " Text(0.23355774210253755, 0.5, 'gini = 0.0\\nsamples = 5\\nvalue = [0, 0, 0, 5, 0, 0]'),\n",
       " Text(0.24184360435007768, 0.5, 'X[0] <= 12.35\\ngini = 0.444\\nsamples = 3\\nvalue = [0, 0, 2, 0, 1, 0]'),\n",
       " Text(0.2377006732263076, 0.4411764705882353, 'gini = 0.0\\nsamples = 2\\nvalue = [0, 0, 2, 0, 0, 0]'),\n",
       " Text(0.24598653547384774, 0.4411764705882353, 'gini = 0.0\\nsamples = 1\\nvalue = [0, 0, 0, 0, 1, 0]'),\n",
       " Text(0.3344122216468151, 0.8529411764705882, 'X[6] <= 98.5\\ngini = 0.288\\nsamples = 177\\nvalue = [0, 4, 147, 26, 0, 0]'),\n",
       " Text(0.2954427757638529, 0.7941176470588235, 'X[10] <= 9.45\\ngini = 0.39\\nsamples = 116\\nvalue = [0, 4, 87, 25, 0, 0]'),\n",
       " Text(0.2667011910926981, 0.7352941176470589, 'X[8] <= 3.495\\ngini = 0.222\\nsamples = 49\\nvalue = [0, 2, 43, 4, 0, 0]'),\n",
       " Text(0.25841532884515794, 0.6764705882352942, 'X[8] <= 2.895\\ngini = 0.163\\nsamples = 46\\nvalue = [0, 2, 42, 2, 0, 0]'),\n",
       " Text(0.2542723977213879, 0.6176470588235294, 'gini = 0.0\\nsamples = 1\\nvalue = [0, 1, 0, 0, 0, 0]'),\n",
       " Text(0.262558259968928, 0.6176470588235294, 'X[5] <= 7.0\\ngini = 0.126\\nsamples = 45\\nvalue = [0, 1, 42, 2, 0, 0]'),\n",
       " Text(0.25841532884515794, 0.5588235294117647, 'gini = 0.0\\nsamples = 1\\nvalue = [0, 0, 0, 1, 0, 0]'),\n",
       " Text(0.2667011910926981, 0.5588235294117647, 'X[2] <= 0.09\\ngini = 0.088\\nsamples = 44\\nvalue = [0, 1, 42, 1, 0, 0]'),\n",
       " Text(0.25841532884515794, 0.5, 'X[8] <= 3.31\\ngini = 0.444\\nsamples = 3\\nvalue = [0, 0, 2, 1, 0, 0]'),\n",
       " Text(0.2542723977213879, 0.4411764705882353, 'gini = 0.0\\nsamples = 2\\nvalue = [0, 0, 2, 0, 0, 0]'),\n",
       " Text(0.262558259968928, 0.4411764705882353, 'gini = 0.0\\nsamples = 1\\nvalue = [0, 0, 0, 1, 0, 0]'),\n",
       " Text(0.2749870533402382, 0.5, 'X[5] <= 11.5\\ngini = 0.048\\nsamples = 41\\nvalue = [0, 1, 40, 0, 0, 0]'),\n",
       " Text(0.27084412221646814, 0.4411764705882353, 'X[10] <= 9.3\\ngini = 0.444\\nsamples = 3\\nvalue = [0, 1, 2, 0, 0, 0]'),\n",
       " Text(0.2667011910926981, 0.38235294117647056, 'gini = 0.0\\nsamples = 1\\nvalue = [0, 1, 0, 0, 0, 0]'),\n",
       " Text(0.2749870533402382, 0.38235294117647056, 'gini = 0.0\\nsamples = 2\\nvalue = [0, 0, 2, 0, 0, 0]'),\n",
       " Text(0.2791299844640083, 0.4411764705882353, 'gini = 0.0\\nsamples = 38\\nvalue = [0, 0, 38, 0, 0, 0]'),\n",
       " Text(0.2749870533402382, 0.6764705882352942, 'X[3] <= 1.85\\ngini = 0.444\\nsamples = 3\\nvalue = [0, 0, 1, 2, 0, 0]'),\n",
       " Text(0.27084412221646814, 0.6176470588235294, 'gini = 0.0\\nsamples = 1\\nvalue = [0, 0, 1, 0, 0, 0]'),\n",
       " Text(0.2791299844640083, 0.6176470588235294, 'gini = 0.0\\nsamples = 2\\nvalue = [0, 0, 0, 2, 0, 0]'),\n",
       " Text(0.32418436043500776, 0.7352941176470589, 'X[1] <= 0.415\\ngini = 0.47\\nsamples = 67\\nvalue = [0, 2, 44, 21, 0, 0]'),\n",
       " Text(0.2915587778353185, 0.6764705882352942, 'X[1] <= 0.325\\ngini = 0.5\\nsamples = 14\\nvalue = [0, 1, 4, 9, 0, 0]'),\n",
       " Text(0.2874158467115484, 0.6176470588235294, 'gini = 0.0\\nsamples = 2\\nvalue = [0, 0, 2, 0, 0, 0]'),\n",
       " Text(0.29570170895908854, 0.6176470588235294, 'X[7] <= 0.998\\ngini = 0.403\\nsamples = 12\\nvalue = [0, 1, 2, 9, 0, 0]'),\n",
       " Text(0.2874158467115484, 0.5588235294117647, 'X[8] <= 3.345\\ngini = 0.198\\nsamples = 9\\nvalue = [0, 1, 0, 8, 0, 0]'),\n",
       " Text(0.28327291558777834, 0.5, 'gini = 0.0\\nsamples = 1\\nvalue = [0, 1, 0, 0, 0, 0]'),\n",
       " Text(0.2915587778353185, 0.5, 'gini = 0.0\\nsamples = 8\\nvalue = [0, 0, 0, 8, 0, 0]'),\n",
       " Text(0.30398757120662867, 0.5588235294117647, 'X[1] <= 0.355\\ngini = 0.444\\nsamples = 3\\nvalue = [0, 0, 2, 1, 0, 0]'),\n",
       " Text(0.2998446400828586, 0.5, 'gini = 0.0\\nsamples = 1\\nvalue = [0, 0, 0, 1, 0, 0]'),\n",
       " Text(0.30813050233039874, 0.5, 'gini = 0.0\\nsamples = 2\\nvalue = [0, 0, 2, 0, 0, 0]'),\n",
       " Text(0.35680994303469704, 0.6764705882352942, 'X[8] <= 3.295\\ngini = 0.379\\nsamples = 53\\nvalue = [0, 1, 40, 12, 0, 0]'),\n",
       " Text(0.3350595546349042, 0.6176470588235294, 'X[8] <= 3.205\\ngini = 0.5\\nsamples = 26\\nvalue = [0, 1, 16, 9, 0, 0]'),\n",
       " Text(0.32055929570170894, 0.5588235294117647, 'X[3] <= 2.85\\ngini = 0.26\\nsamples = 13\\nvalue = [0, 0, 11, 2, 0, 0]'),\n",
       " Text(0.31641636457793887, 0.5, 'gini = 0.0\\nsamples = 10\\nvalue = [0, 0, 10, 0, 0, 0]'),\n",
       " Text(0.324702226825479, 0.5, 'X[6] <= 82.75\\ngini = 0.444\\nsamples = 3\\nvalue = [0, 0, 1, 2, 0, 0]'),\n",
       " Text(0.32055929570170894, 0.4411764705882353, 'gini = 0.0\\nsamples = 1\\nvalue = [0, 0, 1, 0, 0, 0]'),\n",
       " Text(0.32884515794924907, 0.4411764705882353, 'gini = 0.0\\nsamples = 2\\nvalue = [0, 0, 0, 2, 0, 0]'),\n",
       " Text(0.34955981356809945, 0.5588235294117647, 'X[3] <= 2.4\\ngini = 0.556\\nsamples = 13\\nvalue = [0, 1, 5, 7, 0, 0]'),\n",
       " Text(0.3412739513205593, 0.5, 'X[10] <= 9.7\\ngini = 0.278\\nsamples = 6\\nvalue = [0, 1, 0, 5, 0, 0]'),\n",
       " Text(0.33713102019678926, 0.4411764705882353, 'gini = 0.0\\nsamples = 5\\nvalue = [0, 0, 0, 5, 0, 0]'),\n",
       " Text(0.3454168824443294, 0.4411764705882353, 'gini = 0.0\\nsamples = 1\\nvalue = [0, 1, 0, 0, 0, 0]'),\n",
       " Text(0.3578456758156396, 0.5, 'X[5] <= 29.5\\ngini = 0.408\\nsamples = 7\\nvalue = [0, 0, 5, 2, 0, 0]'),\n",
       " Text(0.3537027446918695, 0.4411764705882353, 'gini = 0.0\\nsamples = 4\\nvalue = [0, 0, 4, 0, 0, 0]'),\n",
       " Text(0.36198860693940965, 0.4411764705882353, 'X[7] <= 0.998\\ngini = 0.444\\nsamples = 3\\nvalue = [0, 0, 1, 2, 0, 0]'),\n",
       " Text(0.3578456758156396, 0.38235294117647056, 'gini = 0.0\\nsamples = 1\\nvalue = [0, 0, 1, 0, 0, 0]'),\n",
       " Text(0.3661315380631797, 0.38235294117647056, 'gini = 0.0\\nsamples = 2\\nvalue = [0, 0, 0, 2, 0, 0]'),\n",
       " Text(0.3785603314344899, 0.6176470588235294, 'X[2] <= 0.025\\ngini = 0.198\\nsamples = 27\\nvalue = [0, 0, 24, 3, 0, 0]'),\n",
       " Text(0.3702744691869498, 0.5588235294117647, 'X[10] <= 9.75\\ngini = 0.48\\nsamples = 5\\nvalue = [0, 0, 3, 2, 0, 0]'),\n",
       " Text(0.3661315380631797, 0.5, 'gini = 0.0\\nsamples = 2\\nvalue = [0, 0, 0, 2, 0, 0]'),\n",
       " Text(0.37441740031071985, 0.5, 'gini = 0.0\\nsamples = 3\\nvalue = [0, 0, 3, 0, 0, 0]'),\n",
       " Text(0.38684619368203005, 0.5588235294117647, 'X[6] <= 97.0\\ngini = 0.087\\nsamples = 22\\nvalue = [0, 0, 21, 1, 0, 0]'),\n",
       " Text(0.38270326255826, 0.5, 'gini = 0.0\\nsamples = 19\\nvalue = [0, 0, 19, 0, 0, 0]'),\n",
       " Text(0.3909891248058001, 0.5, 'X[0] <= 8.25\\ngini = 0.444\\nsamples = 3\\nvalue = [0, 0, 2, 1, 0, 0]'),\n",
       " Text(0.38684619368203005, 0.4411764705882353, 'gini = 0.0\\nsamples = 2\\nvalue = [0, 0, 2, 0, 0, 0]'),\n",
       " Text(0.3951320559295702, 0.4411764705882353, 'gini = 0.0\\nsamples = 1\\nvalue = [0, 0, 0, 1, 0, 0]'),\n",
       " Text(0.3733816675297773, 0.7941176470588235, 'X[4] <= 0.067\\ngini = 0.032\\nsamples = 61\\nvalue = [0, 0, 60, 1, 0, 0]'),\n",
       " Text(0.36923873640600724, 0.7352941176470589, 'X[0] <= 7.55\\ngini = 0.5\\nsamples = 2\\nvalue = [0, 0, 1, 1, 0, 0]'),\n",
       " Text(0.3650958052822372, 0.6764705882352942, 'gini = 0.0\\nsamples = 1\\nvalue = [0, 0, 1, 0, 0, 0]'),\n",
       " Text(0.3733816675297773, 0.6764705882352942, 'gini = 0.0\\nsamples = 1\\nvalue = [0, 0, 0, 1, 0, 0]'),\n",
       " Text(0.37752459865354737, 0.7352941176470589, 'gini = 0.0\\nsamples = 59\\nvalue = [0, 0, 59, 0, 0, 0]'),\n",
       " Text(0.7668953909891248, 0.9117647058823529, 'X[9] <= 0.675\\ngini = 0.651\\nsamples = 451\\nvalue = [4, 16, 91, 228, 102, 10]'),\n",
       " Text(0.6187856033143448, 0.8529411764705882, 'X[10] <= 11.45\\ngini = 0.636\\nsamples = 250\\nvalue = [4, 16, 69, 130, 29, 2]'),\n",
       " Text(0.5317193164163646, 0.7941176470588235, 'X[1] <= 0.827\\ngini = 0.649\\nsamples = 157\\nvalue = [4, 13, 60, 69, 10, 1]'),\n",
       " Text(0.4528741584671155, 0.7352941176470589, 'X[3] <= 1.85\\ngini = 0.589\\nsamples = 134\\nvalue = [0, 3, 54, 66, 10, 1]'),\n",
       " Text(0.4158467115484205, 0.6764705882352942, 'X[8] <= 3.355\\ngini = 0.544\\nsamples = 26\\nvalue = [0, 0, 16, 6, 4, 0]'),\n",
       " Text(0.4075608493008804, 0.6176470588235294, 'X[2] <= 0.405\\ngini = 0.661\\nsamples = 11\\nvalue = [0, 0, 3, 4, 4, 0]'),\n",
       " Text(0.4034179181771103, 0.5588235294117647, 'X[6] <= 32.5\\ngini = 0.5\\nsamples = 8\\nvalue = [0, 0, 0, 4, 4, 0]'),\n",
       " Text(0.39927498705334025, 0.5, 'gini = 0.0\\nsamples = 4\\nvalue = [0, 0, 0, 0, 4, 0]'),\n",
       " Text(0.4075608493008804, 0.5, 'gini = 0.0\\nsamples = 4\\nvalue = [0, 0, 0, 4, 0, 0]'),\n",
       " Text(0.41170378042465045, 0.5588235294117647, 'gini = 0.0\\nsamples = 3\\nvalue = [0, 0, 3, 0, 0, 0]'),\n",
       " Text(0.42413257379596064, 0.6176470588235294, 'X[8] <= 3.4\\ngini = 0.231\\nsamples = 15\\nvalue = [0, 0, 13, 2, 0, 0]'),\n",
       " Text(0.4199896426721906, 0.5588235294117647, 'X[4] <= 0.074\\ngini = 0.444\\nsamples = 6\\nvalue = [0, 0, 4, 2, 0, 0]'),\n",
       " Text(0.4158467115484205, 0.5, 'gini = 0.0\\nsamples = 3\\nvalue = [0, 0, 3, 0, 0, 0]'),\n",
       " Text(0.42413257379596064, 0.5, 'X[10] <= 10.9\\ngini = 0.444\\nsamples = 3\\nvalue = [0, 0, 1, 2, 0, 0]'),\n",
       " Text(0.4199896426721906, 0.4411764705882353, 'gini = 0.0\\nsamples = 2\\nvalue = [0, 0, 0, 2, 0, 0]'),\n",
       " Text(0.4282755049197307, 0.4411764705882353, 'gini = 0.0\\nsamples = 1\\nvalue = [0, 0, 1, 0, 0, 0]'),\n",
       " Text(0.4282755049197307, 0.5588235294117647, 'gini = 0.0\\nsamples = 9\\nvalue = [0, 0, 9, 0, 0, 0]'),\n",
       " Text(0.48990160538581046, 0.6764705882352942, 'X[7] <= 0.996\\ngini = 0.564\\nsamples = 108\\nvalue = [0, 3, 38, 60, 6, 1]'),\n",
       " Text(0.4407042982910409, 0.6176470588235294, 'X[9] <= 0.525\\ngini = 0.373\\nsamples = 38\\nvalue = [0, 0, 8, 29, 1, 0]'),\n",
       " Text(0.43656136716727084, 0.5588235294117647, 'gini = 0.0\\nsamples = 3\\nvalue = [0, 0, 3, 0, 0, 0]'),\n",
       " Text(0.444847229414811, 0.5588235294117647, 'X[6] <= 9.0\\ngini = 0.292\\nsamples = 35\\nvalue = [0, 0, 5, 29, 1, 0]'),\n",
       " Text(0.4407042982910409, 0.5, 'gini = 0.0\\nsamples = 1\\nvalue = [0, 0, 0, 0, 1, 0]'),\n",
       " Text(0.44899016053858104, 0.5, 'X[7] <= 0.995\\ngini = 0.251\\nsamples = 34\\nvalue = [0, 0, 5, 29, 0, 0]'),\n",
       " Text(0.43656136716727084, 0.4411764705882353, 'X[8] <= 3.345\\ngini = 0.5\\nsamples = 4\\nvalue = [0, 0, 2, 2, 0, 0]'),\n",
       " Text(0.4324184360435008, 0.38235294117647056, 'gini = 0.0\\nsamples = 2\\nvalue = [0, 0, 0, 2, 0, 0]'),\n",
       " Text(0.4407042982910409, 0.38235294117647056, 'gini = 0.0\\nsamples = 2\\nvalue = [0, 0, 2, 0, 0, 0]'),\n",
       " Text(0.46141895390989124, 0.4411764705882353, 'X[5] <= 7.0\\ngini = 0.18\\nsamples = 30\\nvalue = [0, 0, 3, 27, 0, 0]'),\n",
       " Text(0.44899016053858104, 0.38235294117647056, 'X[3] <= 2.25\\ngini = 0.444\\nsamples = 6\\nvalue = [0, 0, 2, 4, 0, 0]'),\n",
       " Text(0.444847229414811, 0.3235294117647059, 'gini = 0.0\\nsamples = 3\\nvalue = [0, 0, 0, 3, 0, 0]'),\n",
       " Text(0.4531330916623511, 0.3235294117647059, 'X[8] <= 3.385\\ngini = 0.444\\nsamples = 3\\nvalue = [0, 0, 2, 1, 0, 0]'),\n",
       " Text(0.44899016053858104, 0.2647058823529412, 'gini = 0.0\\nsamples = 2\\nvalue = [0, 0, 2, 0, 0, 0]'),\n",
       " Text(0.4572760227861212, 0.2647058823529412, 'gini = 0.0\\nsamples = 1\\nvalue = [0, 0, 0, 1, 0, 0]'),\n",
       " Text(0.47384774728120144, 0.38235294117647056, 'X[6] <= 26.5\\ngini = 0.08\\nsamples = 24\\nvalue = [0, 0, 1, 23, 0, 0]'),\n",
       " Text(0.46970481615743137, 0.3235294117647059, 'X[4] <= 0.073\\ngini = 0.32\\nsamples = 5\\nvalue = [0, 0, 1, 4, 0, 0]'),\n",
       " Text(0.4655618850336613, 0.2647058823529412, 'gini = 0.0\\nsamples = 1\\nvalue = [0, 0, 1, 0, 0, 0]'),\n",
       " Text(0.47384774728120144, 0.2647058823529412, 'gini = 0.0\\nsamples = 4\\nvalue = [0, 0, 0, 4, 0, 0]'),\n",
       " Text(0.4779906784049715, 0.3235294117647059, 'gini = 0.0\\nsamples = 19\\nvalue = [0, 0, 0, 19, 0, 0]'),\n",
       " Text(0.5390989124805801, 0.6176470588235294, 'X[6] <= 42.5\\ngini = 0.613\\nsamples = 70\\nvalue = [0, 3, 30, 31, 5, 1]'),\n",
       " Text(0.5132055929570171, 0.5588235294117647, 'X[3] <= 2.15\\ngini = 0.629\\nsamples = 46\\nvalue = [0, 2, 23, 15, 5, 1]'),\n",
       " Text(0.5049197307094769, 0.5, 'X[9] <= 0.66\\ngini = 0.278\\nsamples = 6\\nvalue = [0, 0, 1, 5, 0, 0]'),\n",
       " Text(0.5007767995857069, 0.4411764705882353, 'gini = 0.0\\nsamples = 5\\nvalue = [0, 0, 0, 5, 0, 0]'),\n",
       " Text(0.509062661833247, 0.4411764705882353, 'gini = 0.0\\nsamples = 1\\nvalue = [0, 0, 1, 0, 0, 0]'),\n",
       " Text(0.5214914552045572, 0.5, 'X[1] <= 0.78\\ngini = 0.616\\nsamples = 40\\nvalue = [0, 2, 22, 10, 5, 1]'),\n",
       " Text(0.5173485240807871, 0.4411764705882353, 'X[10] <= 10.55\\ngini = 0.6\\nsamples = 38\\nvalue = [0, 2, 22, 8, 5, 1]'),\n",
       " Text(0.49456240290005177, 0.38235294117647056, 'X[6] <= 37.5\\ngini = 0.32\\nsamples = 16\\nvalue = [0, 0, 13, 2, 1, 0]'),\n",
       " Text(0.48627654065251164, 0.3235294117647059, 'X[8] <= 3.485\\ngini = 0.142\\nsamples = 13\\nvalue = [0, 0, 12, 0, 1, 0]'),\n",
       " Text(0.48213360952874157, 0.2647058823529412, 'gini = 0.0\\nsamples = 12\\nvalue = [0, 0, 12, 0, 0, 0]'),\n",
       " Text(0.4904194717762817, 0.2647058823529412, 'gini = 0.0\\nsamples = 1\\nvalue = [0, 0, 0, 0, 1, 0]'),\n",
       " Text(0.502848265147592, 0.3235294117647059, 'X[4] <= 0.09\\ngini = 0.444\\nsamples = 3\\nvalue = [0, 0, 1, 2, 0, 0]'),\n",
       " Text(0.49870533402382183, 0.2647058823529412, 'gini = 0.0\\nsamples = 2\\nvalue = [0, 0, 0, 2, 0, 0]'),\n",
       " Text(0.506991196271362, 0.2647058823529412, 'gini = 0.0\\nsamples = 1\\nvalue = [0, 0, 1, 0, 0, 0]'),\n",
       " Text(0.5401346452615226, 0.38235294117647056, 'X[9] <= 0.625\\ngini = 0.715\\nsamples = 22\\nvalue = [0, 2, 9, 6, 4, 1]'),\n",
       " Text(0.5235629207664423, 0.3235294117647059, 'X[4] <= 0.081\\ngini = 0.602\\nsamples = 16\\nvalue = [0, 1, 8, 6, 1, 0]'),\n",
       " Text(0.5152770585189022, 0.2647058823529412, 'X[9] <= 0.585\\ngini = 0.449\\nsamples = 7\\nvalue = [0, 1, 5, 0, 1, 0]'),\n",
       " Text(0.5111341273951321, 0.20588235294117646, 'X[4] <= 0.058\\ngini = 0.278\\nsamples = 6\\nvalue = [0, 1, 5, 0, 0, 0]'),\n",
       " Text(0.506991196271362, 0.14705882352941177, 'X[2] <= 0.035\\ngini = 0.5\\nsamples = 2\\nvalue = [0, 1, 1, 0, 0, 0]'),\n",
       " Text(0.502848265147592, 0.08823529411764706, 'gini = 0.0\\nsamples = 1\\nvalue = [0, 0, 1, 0, 0, 0]'),\n",
       " Text(0.5111341273951321, 0.08823529411764706, 'gini = 0.0\\nsamples = 1\\nvalue = [0, 1, 0, 0, 0, 0]'),\n",
       " Text(0.5152770585189022, 0.14705882352941177, 'gini = 0.0\\nsamples = 4\\nvalue = [0, 0, 4, 0, 0, 0]'),\n",
       " Text(0.5194199896426722, 0.20588235294117646, 'gini = 0.0\\nsamples = 1\\nvalue = [0, 0, 0, 0, 1, 0]'),\n",
       " Text(0.5318487830139824, 0.2647058823529412, 'X[4] <= 0.094\\ngini = 0.444\\nsamples = 9\\nvalue = [0, 0, 3, 6, 0, 0]'),\n",
       " Text(0.5277058518902124, 0.20588235294117646, 'gini = 0.0\\nsamples = 4\\nvalue = [0, 0, 0, 4, 0, 0]'),\n",
       " Text(0.5359917141377525, 0.20588235294117646, 'X[4] <= 0.103\\ngini = 0.48\\nsamples = 5\\nvalue = [0, 0, 3, 2, 0, 0]'),\n",
       " Text(0.5318487830139824, 0.14705882352941177, 'gini = 0.0\\nsamples = 2\\nvalue = [0, 0, 2, 0, 0, 0]'),\n",
       " Text(0.5401346452615226, 0.14705882352941177, 'X[3] <= 2.4\\ngini = 0.444\\nsamples = 3\\nvalue = [0, 0, 1, 2, 0, 0]'),\n",
       " Text(0.5359917141377525, 0.08823529411764706, 'gini = 0.0\\nsamples = 1\\nvalue = [0, 0, 1, 0, 0, 0]'),\n",
       " Text(0.5442775763852926, 0.08823529411764706, 'gini = 0.0\\nsamples = 2\\nvalue = [0, 0, 0, 2, 0, 0]'),\n",
       " Text(0.5567063697566028, 0.3235294117647059, 'X[8] <= 3.165\\ngini = 0.667\\nsamples = 6\\nvalue = [0, 1, 1, 0, 3, 1]'),\n",
       " Text(0.5484205075090627, 0.2647058823529412, 'X[4] <= 0.09\\ngini = 0.5\\nsamples = 2\\nvalue = [0, 0, 1, 0, 0, 1]'),\n",
       " Text(0.5442775763852926, 0.20588235294117646, 'gini = 0.0\\nsamples = 1\\nvalue = [0, 0, 0, 0, 0, 1]'),\n",
       " Text(0.5525634386328327, 0.20588235294117646, 'gini = 0.0\\nsamples = 1\\nvalue = [0, 0, 1, 0, 0, 0]'),\n",
       " Text(0.564992232004143, 0.2647058823529412, 'X[2] <= 0.195\\ngini = 0.375\\nsamples = 4\\nvalue = [0, 1, 0, 0, 3, 0]'),\n",
       " Text(0.5608493008803729, 0.20588235294117646, 'gini = 0.0\\nsamples = 1\\nvalue = [0, 1, 0, 0, 0, 0]'),\n",
       " Text(0.569135163127913, 0.20588235294117646, 'gini = 0.0\\nsamples = 3\\nvalue = [0, 0, 0, 0, 3, 0]'),\n",
       " Text(0.5256343863283273, 0.4411764705882353, 'gini = 0.0\\nsamples = 2\\nvalue = [0, 0, 0, 2, 0, 0]'),\n",
       " Text(0.564992232004143, 0.5588235294117647, 'X[3] <= 2.05\\ngini = 0.469\\nsamples = 24\\nvalue = [0, 1, 7, 16, 0, 0]'),\n",
       " Text(0.5567063697566028, 0.5, 'X[0] <= 8.55\\ngini = 0.32\\nsamples = 5\\nvalue = [0, 1, 4, 0, 0, 0]'),\n",
       " Text(0.5525634386328327, 0.4411764705882353, 'X[2] <= 0.195\\ngini = 0.5\\nsamples = 2\\nvalue = [0, 1, 1, 0, 0, 0]'),\n",
       " Text(0.5484205075090627, 0.38235294117647056, 'gini = 0.0\\nsamples = 1\\nvalue = [0, 0, 1, 0, 0, 0]'),\n",
       " Text(0.5567063697566028, 0.38235294117647056, 'gini = 0.0\\nsamples = 1\\nvalue = [0, 1, 0, 0, 0, 0]'),\n",
       " Text(0.5608493008803729, 0.4411764705882353, 'gini = 0.0\\nsamples = 3\\nvalue = [0, 0, 3, 0, 0, 0]'),\n",
       " Text(0.5732780942516831, 0.5, 'X[5] <= 27.5\\ngini = 0.266\\nsamples = 19\\nvalue = [0, 0, 3, 16, 0, 0]'),\n",
       " Text(0.569135163127913, 0.4411764705882353, 'gini = 0.0\\nsamples = 14\\nvalue = [0, 0, 0, 14, 0, 0]'),\n",
       " Text(0.5774210253754531, 0.4411764705882353, 'X[3] <= 2.85\\ngini = 0.48\\nsamples = 5\\nvalue = [0, 0, 3, 2, 0, 0]'),\n",
       " Text(0.5732780942516831, 0.38235294117647056, 'gini = 0.0\\nsamples = 3\\nvalue = [0, 0, 3, 0, 0, 0]'),\n",
       " Text(0.5815639564992232, 0.38235294117647056, 'gini = 0.0\\nsamples = 2\\nvalue = [0, 0, 0, 2, 0, 0]'),\n",
       " Text(0.6105644743656137, 0.7352941176470589, 'X[10] <= 10.95\\ngini = 0.696\\nsamples = 23\\nvalue = [4, 10, 6, 3, 0, 0]'),\n",
       " Text(0.5939927498705334, 0.6764705882352942, 'X[4] <= 0.075\\ngini = 0.722\\nsamples = 13\\nvalue = [3, 2, 5, 3, 0, 0]'),\n",
       " Text(0.5815639564992232, 0.6176470588235294, 'X[8] <= 3.52\\ngini = 0.48\\nsamples = 5\\nvalue = [0, 2, 0, 3, 0, 0]'),\n",
       " Text(0.5774210253754531, 0.5588235294117647, 'gini = 0.0\\nsamples = 2\\nvalue = [0, 0, 0, 2, 0, 0]'),\n",
       " Text(0.5857068876229933, 0.5588235294117647, 'X[3] <= 2.15\\ngini = 0.444\\nsamples = 3\\nvalue = [0, 2, 0, 1, 0, 0]'),\n",
       " Text(0.5815639564992232, 0.5, 'gini = 0.0\\nsamples = 2\\nvalue = [0, 2, 0, 0, 0, 0]'),\n",
       " Text(0.5898498187467633, 0.5, 'gini = 0.0\\nsamples = 1\\nvalue = [0, 0, 0, 1, 0, 0]'),\n",
       " Text(0.6064215432418436, 0.6176470588235294, 'X[3] <= 3.275\\ngini = 0.469\\nsamples = 8\\nvalue = [3, 0, 5, 0, 0, 0]'),\n",
       " Text(0.6022786121180735, 0.5588235294117647, 'X[1] <= 1.455\\ngini = 0.278\\nsamples = 6\\nvalue = [1, 0, 5, 0, 0, 0]'),\n",
       " Text(0.5981356809943035, 0.5, 'gini = 0.0\\nsamples = 5\\nvalue = [0, 0, 5, 0, 0, 0]'),\n",
       " Text(0.6064215432418436, 0.5, 'gini = 0.0\\nsamples = 1\\nvalue = [1, 0, 0, 0, 0, 0]'),\n",
       " Text(0.6105644743656137, 0.5588235294117647, 'gini = 0.0\\nsamples = 2\\nvalue = [2, 0, 0, 0, 0, 0]'),\n",
       " Text(0.6271361988606939, 0.6764705882352942, 'X[2] <= 0.255\\ngini = 0.34\\nsamples = 10\\nvalue = [1, 8, 1, 0, 0, 0]'),\n",
       " Text(0.6229932677369239, 0.6176470588235294, 'X[6] <= 11.5\\ngini = 0.198\\nsamples = 9\\nvalue = [1, 8, 0, 0, 0, 0]'),\n",
       " Text(0.6188503366131538, 0.5588235294117647, 'gini = 0.0\\nsamples = 1\\nvalue = [1, 0, 0, 0, 0, 0]'),\n",
       " Text(0.6271361988606939, 0.5588235294117647, 'gini = 0.0\\nsamples = 8\\nvalue = [0, 8, 0, 0, 0, 0]'),\n",
       " Text(0.631279129984464, 0.6176470588235294, 'gini = 0.0\\nsamples = 1\\nvalue = [0, 0, 1, 0, 0, 0]'),\n",
       " Text(0.7058518902123252, 0.7941176470588235, 'X[3] <= 4.5\\ngini = 0.518\\nsamples = 93\\nvalue = [0, 3, 9, 61, 19, 1]'),\n",
       " Text(0.6768513723459347, 0.7352941176470589, 'X[6] <= 15.5\\ngini = 0.442\\nsamples = 80\\nvalue = [0, 1, 8, 58, 12, 1]'),\n",
       " Text(0.6499223200414294, 0.6764705882352942, 'X[9] <= 0.545\\ngini = 0.626\\nsamples = 19\\nvalue = [0, 1, 2, 9, 7, 0]'),\n",
       " Text(0.6395649922320041, 0.6176470588235294, 'X[10] <= 12.6\\ngini = 0.245\\nsamples = 7\\nvalue = [0, 0, 1, 6, 0, 0]'),\n",
       " Text(0.6354220611082341, 0.5588235294117647, 'gini = 0.0\\nsamples = 6\\nvalue = [0, 0, 0, 6, 0, 0]'),\n",
       " Text(0.6437079233557742, 0.5588235294117647, 'gini = 0.0\\nsamples = 1\\nvalue = [0, 0, 1, 0, 0, 0]'),\n",
       " Text(0.6602796478508545, 0.6176470588235294, 'X[7] <= 0.995\\ngini = 0.583\\nsamples = 12\\nvalue = [0, 1, 1, 3, 7, 0]'),\n",
       " Text(0.6519937856033143, 0.5588235294117647, 'X[6] <= 14.5\\ngini = 0.245\\nsamples = 7\\nvalue = [0, 0, 1, 0, 6, 0]'),\n",
       " Text(0.6478508544795443, 0.5, 'gini = 0.0\\nsamples = 6\\nvalue = [0, 0, 0, 0, 6, 0]'),\n",
       " Text(0.6561367167270844, 0.5, 'gini = 0.0\\nsamples = 1\\nvalue = [0, 0, 1, 0, 0, 0]'),\n",
       " Text(0.6685655100983946, 0.5588235294117647, 'X[7] <= 0.996\\ngini = 0.56\\nsamples = 5\\nvalue = [0, 1, 0, 3, 1, 0]'),\n",
       " Text(0.6644225789746245, 0.5, 'X[1] <= 0.54\\ngini = 0.375\\nsamples = 4\\nvalue = [0, 1, 0, 3, 0, 0]'),\n",
       " Text(0.6602796478508545, 0.4411764705882353, 'gini = 0.0\\nsamples = 3\\nvalue = [0, 0, 0, 3, 0, 0]'),\n",
       " Text(0.6685655100983946, 0.4411764705882353, 'gini = 0.0\\nsamples = 1\\nvalue = [0, 1, 0, 0, 0, 0]'),\n",
       " Text(0.6727084412221647, 0.5, 'gini = 0.0\\nsamples = 1\\nvalue = [0, 0, 0, 0, 1, 0]'),\n",
       " Text(0.7037804246504402, 0.6764705882352942, 'X[5] <= 41.25\\ngini = 0.338\\nsamples = 61\\nvalue = [0, 0, 6, 49, 5, 1]'),\n",
       " Text(0.6996374935266702, 0.6176470588235294, 'X[4] <= 0.058\\ngini = 0.316\\nsamples = 60\\nvalue = [0, 0, 6, 49, 5, 0]'),\n",
       " Text(0.6892801657172449, 0.5588235294117647, 'X[5] <= 14.0\\ngini = 0.475\\nsamples = 18\\nvalue = [0, 0, 5, 12, 1, 0]'),\n",
       " Text(0.6809943034697048, 0.5, 'X[2] <= 0.305\\ngini = 0.444\\nsamples = 6\\nvalue = [0, 0, 4, 2, 0, 0]'),\n",
       " Text(0.6768513723459347, 0.4411764705882353, 'gini = 0.0\\nsamples = 4\\nvalue = [0, 0, 4, 0, 0, 0]'),\n",
       " Text(0.6851372345934749, 0.4411764705882353, 'gini = 0.0\\nsamples = 2\\nvalue = [0, 0, 0, 2, 0, 0]'),\n",
       " Text(0.6975660279647851, 0.5, 'X[10] <= 12.9\\ngini = 0.292\\nsamples = 12\\nvalue = [0, 0, 1, 10, 1, 0]'),\n",
       " Text(0.693423096841015, 0.4411764705882353, 'X[6] <= 97.0\\ngini = 0.165\\nsamples = 11\\nvalue = [0, 0, 0, 10, 1, 0]'),\n",
       " Text(0.6892801657172449, 0.38235294117647056, 'gini = 0.0\\nsamples = 9\\nvalue = [0, 0, 0, 9, 0, 0]'),\n",
       " Text(0.6975660279647851, 0.38235294117647056, 'X[6] <= 107.5\\ngini = 0.5\\nsamples = 2\\nvalue = [0, 0, 0, 1, 1, 0]'),\n",
       " Text(0.693423096841015, 0.3235294117647059, 'gini = 0.0\\nsamples = 1\\nvalue = [0, 0, 0, 0, 1, 0]'),\n",
       " Text(0.7017089590885551, 0.3235294117647059, 'gini = 0.0\\nsamples = 1\\nvalue = [0, 0, 0, 1, 0, 0]'),\n",
       " Text(0.7017089590885551, 0.4411764705882353, 'gini = 0.0\\nsamples = 1\\nvalue = [0, 0, 1, 0, 0, 0]'),\n",
       " Text(0.7099948213360953, 0.5588235294117647, 'X[9] <= 0.605\\ngini = 0.214\\nsamples = 42\\nvalue = [0, 0, 1, 37, 4, 0]'),\n",
       " Text(0.7058518902123252, 0.5, 'gini = 0.0\\nsamples = 24\\nvalue = [0, 0, 0, 24, 0, 0]'),\n",
       " Text(0.7141377524598653, 0.5, 'X[10] <= 12.35\\ngini = 0.426\\nsamples = 18\\nvalue = [0, 0, 1, 13, 4, 0]'),\n",
       " Text(0.7099948213360953, 0.4411764705882353, 'X[7] <= 0.995\\ngini = 0.58\\nsamples = 10\\nvalue = [0, 0, 1, 5, 4, 0]'),\n",
       " Text(0.7058518902123252, 0.38235294117647056, 'gini = 0.0\\nsamples = 2\\nvalue = [0, 0, 0, 0, 2, 0]'),\n",
       " Text(0.7141377524598653, 0.38235294117647056, 'X[3] <= 2.475\\ngini = 0.531\\nsamples = 8\\nvalue = [0, 0, 1, 5, 2, 0]'),\n",
       " Text(0.7099948213360953, 0.3235294117647059, 'gini = 0.0\\nsamples = 4\\nvalue = [0, 0, 0, 4, 0, 0]'),\n",
       " Text(0.7182806835836354, 0.3235294117647059, 'X[7] <= 0.996\\ngini = 0.625\\nsamples = 4\\nvalue = [0, 0, 1, 1, 2, 0]'),\n",
       " Text(0.7141377524598653, 0.2647058823529412, 'gini = 0.0\\nsamples = 2\\nvalue = [0, 0, 0, 0, 2, 0]'),\n",
       " Text(0.7224236147074055, 0.2647058823529412, 'X[1] <= 0.39\\ngini = 0.5\\nsamples = 2\\nvalue = [0, 0, 1, 1, 0, 0]'),\n",
       " Text(0.7182806835836354, 0.20588235294117646, 'gini = 0.0\\nsamples = 1\\nvalue = [0, 0, 1, 0, 0, 0]'),\n",
       " Text(0.7265665458311755, 0.20588235294117646, 'gini = 0.0\\nsamples = 1\\nvalue = [0, 0, 0, 1, 0, 0]'),\n",
       " Text(0.7182806835836354, 0.4411764705882353, 'gini = 0.0\\nsamples = 8\\nvalue = [0, 0, 0, 8, 0, 0]'),\n",
       " Text(0.7079233557742103, 0.6176470588235294, 'gini = 0.0\\nsamples = 1\\nvalue = [0, 0, 0, 0, 0, 1]'),\n",
       " Text(0.7348524080787157, 0.7352941176470589, 'X[2] <= 0.405\\ngini = 0.627\\nsamples = 13\\nvalue = [0, 2, 1, 3, 7, 0]'),\n",
       " Text(0.7265665458311755, 0.6764705882352942, 'X[2] <= 0.275\\ngini = 0.64\\nsamples = 5\\nvalue = [0, 2, 1, 2, 0, 0]'),\n",
       " Text(0.7224236147074055, 0.6176470588235294, 'X[9] <= 0.525\\ngini = 0.444\\nsamples = 3\\nvalue = [0, 0, 1, 2, 0, 0]'),\n",
       " Text(0.7182806835836354, 0.5588235294117647, 'gini = 0.0\\nsamples = 1\\nvalue = [0, 0, 1, 0, 0, 0]'),\n",
       " Text(0.7265665458311755, 0.5588235294117647, 'gini = 0.0\\nsamples = 2\\nvalue = [0, 0, 0, 2, 0, 0]'),\n",
       " Text(0.7307094769549456, 0.6176470588235294, 'gini = 0.0\\nsamples = 2\\nvalue = [0, 2, 0, 0, 0, 0]'),\n",
       " Text(0.7431382703262558, 0.6764705882352942, 'X[4] <= 0.106\\ngini = 0.219\\nsamples = 8\\nvalue = [0, 0, 0, 1, 7, 0]'),\n",
       " Text(0.7389953392024857, 0.6176470588235294, 'gini = 0.0\\nsamples = 7\\nvalue = [0, 0, 0, 0, 7, 0]'),\n",
       " Text(0.7472812014500259, 0.6176470588235294, 'gini = 0.0\\nsamples = 1\\nvalue = [0, 0, 0, 1, 0, 0]'),\n",
       " Text(0.9150051786639047, 0.8529411764705882, 'X[10] <= 12.05\\ngini = 0.617\\nsamples = 201\\nvalue = [0, 0, 22, 98, 73, 8]'),\n",
       " Text(0.8486535473847747, 0.7941176470588235, 'X[1] <= 0.335\\ngini = 0.589\\nsamples = 164\\nvalue = [0, 0, 21, 90, 50, 3]'),\n",
       " Text(0.783531848783014, 0.7352941176470589, 'X[9] <= 0.735\\ngini = 0.59\\nsamples = 50\\nvalue = [0, 0, 5, 18, 26, 1]'),\n",
       " Text(0.7638529259451061, 0.6764705882352942, 'X[5] <= 10.5\\ngini = 0.5\\nsamples = 12\\nvalue = [0, 0, 2, 8, 2, 0]'),\n",
       " Text(0.755567063697566, 0.6176470588235294, 'X[7] <= 0.995\\ngini = 0.625\\nsamples = 4\\nvalue = [0, 0, 2, 1, 1, 0]'),\n",
       " Text(0.7514241325737959, 0.5588235294117647, 'X[4] <= 0.065\\ngini = 0.5\\nsamples = 2\\nvalue = [0, 0, 0, 1, 1, 0]'),\n",
       " Text(0.7472812014500259, 0.5, 'gini = 0.0\\nsamples = 1\\nvalue = [0, 0, 0, 0, 1, 0]'),\n",
       " Text(0.755567063697566, 0.5, 'gini = 0.0\\nsamples = 1\\nvalue = [0, 0, 0, 1, 0, 0]'),\n",
       " Text(0.759709994821336, 0.5588235294117647, 'gini = 0.0\\nsamples = 2\\nvalue = [0, 0, 2, 0, 0, 0]'),\n",
       " Text(0.7721387881926463, 0.6176470588235294, 'X[2] <= 0.695\\ngini = 0.219\\nsamples = 8\\nvalue = [0, 0, 0, 7, 1, 0]'),\n",
       " Text(0.7679958570688762, 0.5588235294117647, 'gini = 0.0\\nsamples = 7\\nvalue = [0, 0, 0, 7, 0, 0]'),\n",
       " Text(0.7762817193164163, 0.5588235294117647, 'gini = 0.0\\nsamples = 1\\nvalue = [0, 0, 0, 0, 1, 0]'),\n",
       " Text(0.8032107716209218, 0.6764705882352942, 'X[10] <= 10.4\\ngini = 0.525\\nsamples = 38\\nvalue = [0, 0, 3, 10, 24, 1]'),\n",
       " Text(0.7887105126877265, 0.6176470588235294, 'X[5] <= 36.5\\ngini = 0.278\\nsamples = 6\\nvalue = [0, 0, 0, 5, 1, 0]'),\n",
       " Text(0.7845675815639565, 0.5588235294117647, 'gini = 0.0\\nsamples = 4\\nvalue = [0, 0, 0, 4, 0, 0]'),\n",
       " Text(0.7928534438114966, 0.5588235294117647, 'X[3] <= 2.15\\ngini = 0.5\\nsamples = 2\\nvalue = [0, 0, 0, 1, 1, 0]'),\n",
       " Text(0.7887105126877265, 0.5, 'gini = 0.0\\nsamples = 1\\nvalue = [0, 0, 0, 0, 1, 0]'),\n",
       " Text(0.7969963749352666, 0.5, 'gini = 0.0\\nsamples = 1\\nvalue = [0, 0, 0, 1, 0, 0]'),\n",
       " Text(0.8177110305541171, 0.6176470588235294, 'X[4] <= 0.12\\ngini = 0.449\\nsamples = 32\\nvalue = [0, 0, 3, 5, 23, 1]'),\n",
       " Text(0.813568099430347, 0.5588235294117647, 'X[6] <= 53.5\\ngini = 0.391\\nsamples = 30\\nvalue = [0, 0, 3, 3, 23, 1]'),\n",
       " Text(0.8052822371828068, 0.5, 'X[3] <= 1.65\\ngini = 0.288\\nsamples = 24\\nvalue = [0, 0, 0, 3, 20, 1]'),\n",
       " Text(0.8011393060590367, 0.4411764705882353, 'gini = 0.0\\nsamples = 1\\nvalue = [0, 0, 0, 1, 0, 0]'),\n",
       " Text(0.8094251683065768, 0.4411764705882353, 'X[5] <= 6.5\\ngini = 0.234\\nsamples = 23\\nvalue = [0, 0, 0, 2, 20, 1]'),\n",
       " Text(0.8052822371828068, 0.38235294117647056, 'X[10] <= 11.45\\ngini = 0.494\\nsamples = 9\\nvalue = [0, 0, 0, 2, 6, 1]'),\n",
       " Text(0.8011393060590367, 0.3235294117647059, 'X[8] <= 3.255\\ngini = 0.375\\nsamples = 8\\nvalue = [0, 0, 0, 2, 6, 0]'),\n",
       " Text(0.7969963749352666, 0.2647058823529412, 'gini = 0.0\\nsamples = 5\\nvalue = [0, 0, 0, 0, 5, 0]'),\n",
       " Text(0.8052822371828068, 0.2647058823529412, 'X[6] <= 21.5\\ngini = 0.444\\nsamples = 3\\nvalue = [0, 0, 0, 2, 1, 0]'),\n",
       " Text(0.8011393060590367, 0.20588235294117646, 'gini = 0.0\\nsamples = 2\\nvalue = [0, 0, 0, 2, 0, 0]'),\n",
       " Text(0.8094251683065768, 0.20588235294117646, 'gini = 0.0\\nsamples = 1\\nvalue = [0, 0, 0, 0, 1, 0]'),\n",
       " Text(0.8094251683065768, 0.3235294117647059, 'gini = 0.0\\nsamples = 1\\nvalue = [0, 0, 0, 0, 0, 1]'),\n",
       " Text(0.813568099430347, 0.38235294117647056, 'gini = 0.0\\nsamples = 14\\nvalue = [0, 0, 0, 0, 14, 0]'),\n",
       " Text(0.8218539616778872, 0.5, 'X[6] <= 72.0\\ngini = 0.5\\nsamples = 6\\nvalue = [0, 0, 3, 0, 3, 0]'),\n",
       " Text(0.8177110305541171, 0.4411764705882353, 'gini = 0.0\\nsamples = 3\\nvalue = [0, 0, 3, 0, 0, 0]'),\n",
       " Text(0.8259968928016572, 0.4411764705882353, 'gini = 0.0\\nsamples = 3\\nvalue = [0, 0, 0, 0, 3, 0]'),\n",
       " Text(0.8218539616778872, 0.5588235294117647, 'gini = 0.0\\nsamples = 2\\nvalue = [0, 0, 0, 2, 0, 0]'),\n",
       " Text(0.9137752459865355, 0.7352941176470589, 'X[3] <= 4.4\\ngini = 0.537\\nsamples = 114\\nvalue = [0, 0, 16, 72, 24, 2]'),\n",
       " Text(0.8855515277058519, 0.6764705882352942, 'X[2] <= 0.56\\ngini = 0.484\\nsamples = 104\\nvalue = [0, 0, 10, 71, 21, 2]'),\n",
       " Text(0.8684619368203004, 0.6176470588235294, 'X[1] <= 0.875\\ngini = 0.431\\nsamples = 90\\nvalue = [0, 0, 9, 66, 13, 2]'),\n",
       " Text(0.8643190056965303, 0.5588235294117647, 'X[4] <= 0.071\\ngini = 0.409\\nsamples = 88\\nvalue = [0, 0, 7, 66, 13, 2]'),\n",
       " Text(0.8487830139823925, 0.5, 'X[1] <= 0.555\\ngini = 0.542\\nsamples = 34\\nvalue = [0, 0, 2, 21, 9, 2]'),\n",
       " Text(0.8384256861729674, 0.4411764705882353, 'X[9] <= 0.825\\ngini = 0.464\\nsamples = 27\\nvalue = [0, 0, 1, 19, 5, 2]'),\n",
       " Text(0.8301398239254273, 0.38235294117647056, 'X[9] <= 0.815\\ngini = 0.602\\nsamples = 16\\nvalue = [0, 0, 1, 9, 4, 2]'),\n",
       " Text(0.8259968928016572, 0.3235294117647059, 'X[7] <= 0.996\\ngini = 0.541\\nsamples = 14\\nvalue = [0, 0, 1, 9, 2, 2]'),\n",
       " Text(0.8218539616778872, 0.2647058823529412, 'X[5] <= 20.5\\ngini = 0.719\\nsamples = 8\\nvalue = [0, 0, 1, 3, 2, 2]'),\n",
       " Text(0.8177110305541171, 0.20588235294117646, 'X[1] <= 0.425\\ngini = 0.64\\nsamples = 5\\nvalue = [0, 0, 1, 0, 2, 2]'),\n",
       " Text(0.813568099430347, 0.14705882352941177, 'gini = 0.0\\nsamples = 2\\nvalue = [0, 0, 0, 0, 0, 2]'),\n",
       " Text(0.8218539616778872, 0.14705882352941177, 'X[2] <= 0.285\\ngini = 0.444\\nsamples = 3\\nvalue = [0, 0, 1, 0, 2, 0]'),\n",
       " Text(0.8177110305541171, 0.08823529411764706, 'gini = 0.0\\nsamples = 1\\nvalue = [0, 0, 1, 0, 0, 0]'),\n",
       " Text(0.8259968928016572, 0.08823529411764706, 'gini = 0.0\\nsamples = 2\\nvalue = [0, 0, 0, 0, 2, 0]'),\n",
       " Text(0.8259968928016572, 0.20588235294117646, 'gini = 0.0\\nsamples = 3\\nvalue = [0, 0, 0, 3, 0, 0]'),\n",
       " Text(0.8301398239254273, 0.2647058823529412, 'gini = 0.0\\nsamples = 6\\nvalue = [0, 0, 0, 6, 0, 0]'),\n",
       " Text(0.8342827550491974, 0.3235294117647059, 'gini = 0.0\\nsamples = 2\\nvalue = [0, 0, 0, 0, 2, 0]'),\n",
       " Text(0.8467115484205076, 0.38235294117647056, 'X[7] <= 0.994\\ngini = 0.165\\nsamples = 11\\nvalue = [0, 0, 0, 10, 1, 0]'),\n",
       " Text(0.8425686172967375, 0.3235294117647059, 'gini = 0.0\\nsamples = 1\\nvalue = [0, 0, 0, 0, 1, 0]'),\n",
       " Text(0.8508544795442776, 0.3235294117647059, 'gini = 0.0\\nsamples = 10\\nvalue = [0, 0, 0, 10, 0, 0]'),\n",
       " Text(0.8591403417918178, 0.4411764705882353, 'X[4] <= 0.061\\ngini = 0.571\\nsamples = 7\\nvalue = [0, 0, 1, 2, 4, 0]'),\n",
       " Text(0.8549974106680477, 0.38235294117647056, 'gini = 0.0\\nsamples = 2\\nvalue = [0, 0, 0, 2, 0, 0]'),\n",
       " Text(0.8632832729155878, 0.38235294117647056, 'X[0] <= 10.25\\ngini = 0.32\\nsamples = 5\\nvalue = [0, 0, 1, 0, 4, 0]'),\n",
       " Text(0.8591403417918178, 0.3235294117647059, 'gini = 0.0\\nsamples = 4\\nvalue = [0, 0, 0, 0, 4, 0]'),\n",
       " Text(0.8674262040393579, 0.3235294117647059, 'gini = 0.0\\nsamples = 1\\nvalue = [0, 0, 1, 0, 0, 0]'),\n",
       " Text(0.8798549974106681, 0.5, 'X[7] <= 1.002\\ngini = 0.291\\nsamples = 54\\nvalue = [0, 0, 5, 45, 4, 0]'),\n",
       " Text(0.875712066286898, 0.4411764705882353, 'X[0] <= 6.0\\ngini = 0.268\\nsamples = 53\\nvalue = [0, 0, 4, 45, 4, 0]'),\n",
       " Text(0.871569135163128, 0.38235294117647056, 'gini = 0.0\\nsamples = 1\\nvalue = [0, 0, 1, 0, 0, 0]'),\n",
       " Text(0.8798549974106681, 0.38235294117647056, 'X[1] <= 0.345\\ngini = 0.242\\nsamples = 52\\nvalue = [0, 0, 3, 45, 4, 0]'),\n",
       " Text(0.875712066286898, 0.3235294117647059, 'gini = 0.0\\nsamples = 1\\nvalue = [0, 0, 1, 0, 0, 0]'),\n",
       " Text(0.8839979285344381, 0.3235294117647059, 'X[9] <= 0.845\\ngini = 0.214\\nsamples = 51\\nvalue = [0, 0, 2, 45, 4, 0]'),\n",
       " Text(0.8694976696012429, 0.2647058823529412, 'X[4] <= 0.123\\ngini = 0.141\\nsamples = 40\\nvalue = [0, 0, 1, 37, 2, 0]'),\n",
       " Text(0.8612118073537027, 0.20588235294117646, 'X[10] <= 11.65\\ngini = 0.1\\nsamples = 38\\nvalue = [0, 0, 0, 36, 2, 0]'),\n",
       " Text(0.8570688762299327, 0.14705882352941177, 'gini = 0.0\\nsamples = 31\\nvalue = [0, 0, 0, 31, 0, 0]'),\n",
       " Text(0.8653547384774728, 0.14705882352941177, 'X[2] <= 0.39\\ngini = 0.408\\nsamples = 7\\nvalue = [0, 0, 0, 5, 2, 0]'),\n",
       " Text(0.8612118073537027, 0.08823529411764706, 'X[4] <= 0.095\\ngini = 0.444\\nsamples = 3\\nvalue = [0, 0, 0, 1, 2, 0]'),\n",
       " Text(0.8570688762299327, 0.029411764705882353, 'gini = 0.0\\nsamples = 2\\nvalue = [0, 0, 0, 0, 2, 0]'),\n",
       " Text(0.8653547384774728, 0.029411764705882353, 'gini = 0.0\\nsamples = 1\\nvalue = [0, 0, 0, 1, 0, 0]'),\n",
       " Text(0.8694976696012429, 0.08823529411764706, 'gini = 0.0\\nsamples = 4\\nvalue = [0, 0, 0, 4, 0, 0]'),\n",
       " Text(0.877783531848783, 0.20588235294117646, 'X[8] <= 3.265\\ngini = 0.5\\nsamples = 2\\nvalue = [0, 0, 1, 1, 0, 0]'),\n",
       " Text(0.8736406007250129, 0.14705882352941177, 'gini = 0.0\\nsamples = 1\\nvalue = [0, 0, 1, 0, 0, 0]'),\n",
       " Text(0.8819264629725531, 0.14705882352941177, 'gini = 0.0\\nsamples = 1\\nvalue = [0, 0, 0, 1, 0, 0]'),\n",
       " Text(0.8984981874676333, 0.2647058823529412, 'X[9] <= 0.885\\ngini = 0.43\\nsamples = 11\\nvalue = [0, 0, 1, 8, 2, 0]'),\n",
       " Text(0.8943552563438633, 0.20588235294117646, 'X[8] <= 3.305\\ngini = 0.625\\nsamples = 4\\nvalue = [0, 0, 1, 1, 2, 0]'),\n",
       " Text(0.8902123252200932, 0.14705882352941177, 'X[1] <= 0.395\\ngini = 0.5\\nsamples = 2\\nvalue = [0, 0, 1, 1, 0, 0]'),\n",
       " Text(0.8860693940963231, 0.08823529411764706, 'gini = 0.0\\nsamples = 1\\nvalue = [0, 0, 0, 1, 0, 0]'),\n",
       " Text(0.8943552563438633, 0.08823529411764706, 'gini = 0.0\\nsamples = 1\\nvalue = [0, 0, 1, 0, 0, 0]'),\n",
       " Text(0.8984981874676333, 0.14705882352941177, 'gini = 0.0\\nsamples = 2\\nvalue = [0, 0, 0, 0, 2, 0]'),\n",
       " Text(0.9026411185914034, 0.20588235294117646, 'gini = 0.0\\nsamples = 7\\nvalue = [0, 0, 0, 7, 0, 0]'),\n",
       " Text(0.8839979285344381, 0.4411764705882353, 'gini = 0.0\\nsamples = 1\\nvalue = [0, 0, 1, 0, 0, 0]'),\n",
       " Text(0.8726048679440704, 0.5588235294117647, 'gini = 0.0\\nsamples = 2\\nvalue = [0, 0, 2, 0, 0, 0]'),\n",
       " Text(0.9026411185914034, 0.6176470588235294, 'X[7] <= 0.998\\ngini = 0.541\\nsamples = 14\\nvalue = [0, 0, 1, 5, 8, 0]'),\n",
       " Text(0.8922837907819783, 0.5588235294117647, 'X[1] <= 0.35\\ngini = 0.245\\nsamples = 7\\nvalue = [0, 0, 0, 1, 6, 0]'),\n",
       " Text(0.8881408596582082, 0.5, 'gini = 0.0\\nsamples = 1\\nvalue = [0, 0, 0, 1, 0, 0]'),\n",
       " Text(0.8964267219057483, 0.5, 'gini = 0.0\\nsamples = 6\\nvalue = [0, 0, 0, 0, 6, 0]'),\n",
       " Text(0.9129984464008286, 0.5588235294117647, 'X[10] <= 10.65\\ngini = 0.571\\nsamples = 7\\nvalue = [0, 0, 1, 4, 2, 0]'),\n",
       " Text(0.9047125841532885, 0.5, 'X[7] <= 1.0\\ngini = 0.5\\nsamples = 2\\nvalue = [0, 0, 1, 0, 1, 0]'),\n",
       " Text(0.9005696530295184, 0.4411764705882353, 'gini = 0.0\\nsamples = 1\\nvalue = [0, 0, 1, 0, 0, 0]'),\n",
       " Text(0.9088555152770585, 0.4411764705882353, 'gini = 0.0\\nsamples = 1\\nvalue = [0, 0, 0, 0, 1, 0]'),\n",
       " Text(0.9212843086483687, 0.5, 'X[1] <= 0.588\\ngini = 0.32\\nsamples = 5\\nvalue = [0, 0, 0, 4, 1, 0]'),\n",
       " Text(0.9171413775245987, 0.4411764705882353, 'gini = 0.0\\nsamples = 4\\nvalue = [0, 0, 0, 4, 0, 0]'),\n",
       " Text(0.9254272397721388, 0.4411764705882353, 'gini = 0.0\\nsamples = 1\\nvalue = [0, 0, 0, 0, 1, 0]'),\n",
       " Text(0.9419989642672191, 0.6764705882352942, 'X[6] <= 52.5\\ngini = 0.54\\nsamples = 10\\nvalue = [0, 0, 6, 1, 3, 0]'),\n",
       " Text(0.937856033143449, 0.6176470588235294, 'X[6] <= 17.5\\ngini = 0.56\\nsamples = 5\\nvalue = [0, 0, 1, 1, 3, 0]'),\n",
       " Text(0.9337131020196789, 0.5588235294117647, 'X[9] <= 0.78\\ngini = 0.5\\nsamples = 2\\nvalue = [0, 0, 1, 1, 0, 0]'),\n",
       " Text(0.9295701708959089, 0.5, 'gini = 0.0\\nsamples = 1\\nvalue = [0, 0, 0, 1, 0, 0]'),\n",
       " Text(0.937856033143449, 0.5, 'gini = 0.0\\nsamples = 1\\nvalue = [0, 0, 1, 0, 0, 0]'),\n",
       " Text(0.9419989642672191, 0.5588235294117647, 'gini = 0.0\\nsamples = 3\\nvalue = [0, 0, 0, 0, 3, 0]'),\n",
       " Text(0.9461418953909891, 0.6176470588235294, 'gini = 0.0\\nsamples = 5\\nvalue = [0, 0, 5, 0, 0, 0]'),\n",
       " Text(0.9813568099430346, 0.7941176470588235, 'X[9] <= 0.905\\ngini = 0.548\\nsamples = 37\\nvalue = [0, 0, 1, 8, 23, 5]'),\n",
       " Text(0.9772138788192646, 0.7352941176470589, 'X[10] <= 13.8\\ngini = 0.498\\nsamples = 34\\nvalue = [0, 0, 1, 5, 23, 5]'),\n",
       " Text(0.9627136198860694, 0.6764705882352942, 'X[2] <= 0.565\\ngini = 0.4\\nsamples = 29\\nvalue = [0, 0, 1, 2, 22, 4]'),\n",
       " Text(0.9544277576385293, 0.6176470588235294, 'X[3] <= 6.3\\ngini = 0.313\\nsamples = 27\\nvalue = [0, 0, 0, 1, 22, 4]'),\n",
       " Text(0.9502848265147592, 0.5588235294117647, 'X[5] <= 31.5\\ngini = 0.269\\nsamples = 26\\nvalue = [0, 0, 0, 1, 22, 3]'),\n",
       " Text(0.9461418953909891, 0.5, 'X[4] <= 0.076\\ngini = 0.218\\nsamples = 25\\nvalue = [0, 0, 0, 1, 22, 2]'),\n",
       " Text(0.937856033143449, 0.4411764705882353, 'X[9] <= 0.705\\ngini = 0.1\\nsamples = 19\\nvalue = [0, 0, 0, 1, 18, 0]'),\n",
       " Text(0.9337131020196789, 0.38235294117647056, 'X[8] <= 3.34\\ngini = 0.444\\nsamples = 3\\nvalue = [0, 0, 0, 1, 2, 0]'),\n",
       " Text(0.9295701708959089, 0.3235294117647059, 'gini = 0.0\\nsamples = 2\\nvalue = [0, 0, 0, 0, 2, 0]'),\n",
       " Text(0.937856033143449, 0.3235294117647059, 'gini = 0.0\\nsamples = 1\\nvalue = [0, 0, 0, 1, 0, 0]'),\n",
       " Text(0.9419989642672191, 0.38235294117647056, 'gini = 0.0\\nsamples = 16\\nvalue = [0, 0, 0, 0, 16, 0]'),\n",
       " Text(0.9544277576385293, 0.4411764705882353, 'X[10] <= 12.7\\ngini = 0.444\\nsamples = 6\\nvalue = [0, 0, 0, 0, 4, 2]'),\n",
       " Text(0.9502848265147592, 0.38235294117647056, 'gini = 0.0\\nsamples = 4\\nvalue = [0, 0, 0, 0, 4, 0]'),\n",
       " Text(0.9585706887622993, 0.38235294117647056, 'gini = 0.0\\nsamples = 2\\nvalue = [0, 0, 0, 0, 0, 2]'),\n",
       " Text(0.9544277576385293, 0.5, 'gini = 0.0\\nsamples = 1\\nvalue = [0, 0, 0, 0, 0, 1]'),\n",
       " Text(0.9585706887622993, 0.5588235294117647, 'gini = 0.0\\nsamples = 1\\nvalue = [0, 0, 0, 0, 0, 1]'),\n",
       " Text(0.9709994821336095, 0.6176470588235294, 'X[5] <= 14.0\\ngini = 0.5\\nsamples = 2\\nvalue = [0, 0, 1, 1, 0, 0]'),\n",
       " Text(0.9668565510098395, 0.5588235294117647, 'gini = 0.0\\nsamples = 1\\nvalue = [0, 0, 0, 1, 0, 0]'),\n",
       " Text(0.9751424132573796, 0.5588235294117647, 'gini = 0.0\\nsamples = 1\\nvalue = [0, 0, 1, 0, 0, 0]'),\n",
       " Text(0.9917141377524599, 0.6764705882352942, 'X[5] <= 27.5\\ngini = 0.56\\nsamples = 5\\nvalue = [0, 0, 0, 3, 1, 1]'),\n",
       " Text(0.9875712066286898, 0.6176470588235294, 'X[8] <= 3.705\\ngini = 0.375\\nsamples = 4\\nvalue = [0, 0, 0, 3, 1, 0]'),\n",
       " Text(0.9834282755049197, 0.5588235294117647, 'gini = 0.0\\nsamples = 3\\nvalue = [0, 0, 0, 3, 0, 0]'),\n",
       " Text(0.9917141377524599, 0.5588235294117647, 'gini = 0.0\\nsamples = 1\\nvalue = [0, 0, 0, 0, 1, 0]'),\n",
       " Text(0.9958570688762299, 0.6176470588235294, 'gini = 0.0\\nsamples = 1\\nvalue = [0, 0, 0, 0, 0, 1]'),\n",
       " Text(0.9854997410668047, 0.7352941176470589, 'gini = 0.0\\nsamples = 3\\nvalue = [0, 0, 0, 3, 0, 0]')]"
      ]
     },
     "execution_count": 22,
     "metadata": {},
     "output_type": "execute_result"
    },
    {
     "name": "stdout",
     "output_type": "stream",
     "text": [
      "Error in callback <function flush_figures at 0x000002A46E0543A0> (for post_execute):\n"
     ]
    },
    {
     "name": "stderr",
     "output_type": "stream",
     "text": [
      "\n",
      "KeyboardInterrupt\n",
      "\n"
     ]
    }
   ],
   "source": [
    "from sklearn import tree\n",
    "import matplotlib.pyplot as plt\n",
    "fig=plt.figure(figsize=(25,15))\n",
    "tree.plot_tree(model,filled=True)"
   ]
  },
  {
   "cell_type": "code",
   "execution_count": 23,
   "id": "70ee2949",
   "metadata": {},
   "outputs": [],
   "source": [
    "fig.savefig(\"decistion_tree_classifier.png\")"
   ]
  },
  {
   "cell_type": "code",
   "execution_count": 24,
   "id": "b382c551",
   "metadata": {},
   "outputs": [],
   "source": [
    "y_predict=model.predict(X_test)"
   ]
  },
  {
   "cell_type": "code",
   "execution_count": 25,
   "id": "941817cf",
   "metadata": {},
   "outputs": [],
   "source": [
    "from sklearn.metrics import accuracy_score"
   ]
  },
  {
   "cell_type": "code",
   "execution_count": 26,
   "id": "a4f79680",
   "metadata": {},
   "outputs": [
    {
     "data": {
      "text/plain": [
       "0.49888641425389757"
      ]
     },
     "execution_count": 26,
     "metadata": {},
     "output_type": "execute_result"
    }
   ],
   "source": [
    "accuracy_score(y_test,y_predict)"
   ]
  },
  {
   "cell_type": "code",
   "execution_count": 27,
   "id": "22ac9d15",
   "metadata": {},
   "outputs": [],
   "source": [
    "grid_param = {\n",
    "    'criterion': ['gini', 'entropy'],\n",
    "    'max_depth' : range(2,10,1),\n",
    "    'min_samples_leaf' : range(1,8,1),\n",
    "    'min_samples_split': range(2,8,1),\n",
    "    'splitter' : ['best', 'random']\n",
    "    \n",
    "}"
   ]
  },
  {
   "cell_type": "code",
   "execution_count": 28,
   "id": "c986875c",
   "metadata": {},
   "outputs": [],
   "source": [
    "from sklearn.model_selection import GridSearchCV\n",
    "grid_searh=GridSearchCV(estimator=model,param_grid=grid_param,cv=3,verbose=1)"
   ]
  },
  {
   "cell_type": "code",
   "execution_count": 29,
   "id": "51163fff",
   "metadata": {},
   "outputs": [
    {
     "name": "stdout",
     "output_type": "stream",
     "text": [
      "Fitting 3 folds for each of 1344 candidates, totalling 4032 fits\n"
     ]
    },
    {
     "ename": "KeyboardInterrupt",
     "evalue": "",
     "output_type": "error",
     "traceback": [
      "\u001b[1;31m---------------------------------------------------------------------------\u001b[0m",
      "\u001b[1;31mKeyboardInterrupt\u001b[0m                         Traceback (most recent call last)",
      "Input \u001b[1;32mIn [29]\u001b[0m, in \u001b[0;36m<cell line: 1>\u001b[1;34m()\u001b[0m\n\u001b[1;32m----> 1\u001b[0m \u001b[43mgrid_searh\u001b[49m\u001b[38;5;241;43m.\u001b[39;49m\u001b[43mfit\u001b[49m\u001b[43m(\u001b[49m\u001b[43mX_train\u001b[49m\u001b[43m,\u001b[49m\u001b[43my_train\u001b[49m\u001b[43m)\u001b[49m\n",
      "File \u001b[1;32m~\\anaconda3\\lib\\site-packages\\sklearn\\model_selection\\_search.py:891\u001b[0m, in \u001b[0;36mBaseSearchCV.fit\u001b[1;34m(self, X, y, groups, **fit_params)\u001b[0m\n\u001b[0;32m    885\u001b[0m     results \u001b[38;5;241m=\u001b[39m \u001b[38;5;28mself\u001b[39m\u001b[38;5;241m.\u001b[39m_format_results(\n\u001b[0;32m    886\u001b[0m         all_candidate_params, n_splits, all_out, all_more_results\n\u001b[0;32m    887\u001b[0m     )\n\u001b[0;32m    889\u001b[0m     \u001b[38;5;28;01mreturn\u001b[39;00m results\n\u001b[1;32m--> 891\u001b[0m \u001b[38;5;28;43mself\u001b[39;49m\u001b[38;5;241;43m.\u001b[39;49m\u001b[43m_run_search\u001b[49m\u001b[43m(\u001b[49m\u001b[43mevaluate_candidates\u001b[49m\u001b[43m)\u001b[49m\n\u001b[0;32m    893\u001b[0m \u001b[38;5;66;03m# multimetric is determined here because in the case of a callable\u001b[39;00m\n\u001b[0;32m    894\u001b[0m \u001b[38;5;66;03m# self.scoring the return type is only known after calling\u001b[39;00m\n\u001b[0;32m    895\u001b[0m first_test_score \u001b[38;5;241m=\u001b[39m all_out[\u001b[38;5;241m0\u001b[39m][\u001b[38;5;124m\"\u001b[39m\u001b[38;5;124mtest_scores\u001b[39m\u001b[38;5;124m\"\u001b[39m]\n",
      "File \u001b[1;32m~\\anaconda3\\lib\\site-packages\\sklearn\\model_selection\\_search.py:1392\u001b[0m, in \u001b[0;36mGridSearchCV._run_search\u001b[1;34m(self, evaluate_candidates)\u001b[0m\n\u001b[0;32m   1390\u001b[0m \u001b[38;5;28;01mdef\u001b[39;00m \u001b[38;5;21m_run_search\u001b[39m(\u001b[38;5;28mself\u001b[39m, evaluate_candidates):\n\u001b[0;32m   1391\u001b[0m     \u001b[38;5;124;03m\"\"\"Search all candidates in param_grid\"\"\"\u001b[39;00m\n\u001b[1;32m-> 1392\u001b[0m     \u001b[43mevaluate_candidates\u001b[49m\u001b[43m(\u001b[49m\u001b[43mParameterGrid\u001b[49m\u001b[43m(\u001b[49m\u001b[38;5;28;43mself\u001b[39;49m\u001b[38;5;241;43m.\u001b[39;49m\u001b[43mparam_grid\u001b[49m\u001b[43m)\u001b[49m\u001b[43m)\u001b[49m\n",
      "File \u001b[1;32m~\\anaconda3\\lib\\site-packages\\sklearn\\model_selection\\_search.py:838\u001b[0m, in \u001b[0;36mBaseSearchCV.fit.<locals>.evaluate_candidates\u001b[1;34m(candidate_params, cv, more_results)\u001b[0m\n\u001b[0;32m    830\u001b[0m \u001b[38;5;28;01mif\u001b[39;00m \u001b[38;5;28mself\u001b[39m\u001b[38;5;241m.\u001b[39mverbose \u001b[38;5;241m>\u001b[39m \u001b[38;5;241m0\u001b[39m:\n\u001b[0;32m    831\u001b[0m     \u001b[38;5;28mprint\u001b[39m(\n\u001b[0;32m    832\u001b[0m         \u001b[38;5;124m\"\u001b[39m\u001b[38;5;124mFitting \u001b[39m\u001b[38;5;132;01m{0}\u001b[39;00m\u001b[38;5;124m folds for each of \u001b[39m\u001b[38;5;132;01m{1}\u001b[39;00m\u001b[38;5;124m candidates,\u001b[39m\u001b[38;5;124m\"\u001b[39m\n\u001b[0;32m    833\u001b[0m         \u001b[38;5;124m\"\u001b[39m\u001b[38;5;124m totalling \u001b[39m\u001b[38;5;132;01m{2}\u001b[39;00m\u001b[38;5;124m fits\u001b[39m\u001b[38;5;124m\"\u001b[39m\u001b[38;5;241m.\u001b[39mformat(\n\u001b[0;32m    834\u001b[0m             n_splits, n_candidates, n_candidates \u001b[38;5;241m*\u001b[39m n_splits\n\u001b[0;32m    835\u001b[0m         )\n\u001b[0;32m    836\u001b[0m     )\n\u001b[1;32m--> 838\u001b[0m out \u001b[38;5;241m=\u001b[39m \u001b[43mparallel\u001b[49m\u001b[43m(\u001b[49m\n\u001b[0;32m    839\u001b[0m \u001b[43m    \u001b[49m\u001b[43mdelayed\u001b[49m\u001b[43m(\u001b[49m\u001b[43m_fit_and_score\u001b[49m\u001b[43m)\u001b[49m\u001b[43m(\u001b[49m\n\u001b[0;32m    840\u001b[0m \u001b[43m        \u001b[49m\u001b[43mclone\u001b[49m\u001b[43m(\u001b[49m\u001b[43mbase_estimator\u001b[49m\u001b[43m)\u001b[49m\u001b[43m,\u001b[49m\n\u001b[0;32m    841\u001b[0m \u001b[43m        \u001b[49m\u001b[43mX\u001b[49m\u001b[43m,\u001b[49m\n\u001b[0;32m    842\u001b[0m \u001b[43m        \u001b[49m\u001b[43my\u001b[49m\u001b[43m,\u001b[49m\n\u001b[0;32m    843\u001b[0m \u001b[43m        \u001b[49m\u001b[43mtrain\u001b[49m\u001b[38;5;241;43m=\u001b[39;49m\u001b[43mtrain\u001b[49m\u001b[43m,\u001b[49m\n\u001b[0;32m    844\u001b[0m \u001b[43m        \u001b[49m\u001b[43mtest\u001b[49m\u001b[38;5;241;43m=\u001b[39;49m\u001b[43mtest\u001b[49m\u001b[43m,\u001b[49m\n\u001b[0;32m    845\u001b[0m \u001b[43m        \u001b[49m\u001b[43mparameters\u001b[49m\u001b[38;5;241;43m=\u001b[39;49m\u001b[43mparameters\u001b[49m\u001b[43m,\u001b[49m\n\u001b[0;32m    846\u001b[0m \u001b[43m        \u001b[49m\u001b[43msplit_progress\u001b[49m\u001b[38;5;241;43m=\u001b[39;49m\u001b[43m(\u001b[49m\u001b[43msplit_idx\u001b[49m\u001b[43m,\u001b[49m\u001b[43m \u001b[49m\u001b[43mn_splits\u001b[49m\u001b[43m)\u001b[49m\u001b[43m,\u001b[49m\n\u001b[0;32m    847\u001b[0m \u001b[43m        \u001b[49m\u001b[43mcandidate_progress\u001b[49m\u001b[38;5;241;43m=\u001b[39;49m\u001b[43m(\u001b[49m\u001b[43mcand_idx\u001b[49m\u001b[43m,\u001b[49m\u001b[43m \u001b[49m\u001b[43mn_candidates\u001b[49m\u001b[43m)\u001b[49m\u001b[43m,\u001b[49m\n\u001b[0;32m    848\u001b[0m \u001b[43m        \u001b[49m\u001b[38;5;241;43m*\u001b[39;49m\u001b[38;5;241;43m*\u001b[39;49m\u001b[43mfit_and_score_kwargs\u001b[49m\u001b[43m,\u001b[49m\n\u001b[0;32m    849\u001b[0m \u001b[43m    \u001b[49m\u001b[43m)\u001b[49m\n\u001b[0;32m    850\u001b[0m \u001b[43m    \u001b[49m\u001b[38;5;28;43;01mfor\u001b[39;49;00m\u001b[43m \u001b[49m\u001b[43m(\u001b[49m\u001b[43mcand_idx\u001b[49m\u001b[43m,\u001b[49m\u001b[43m \u001b[49m\u001b[43mparameters\u001b[49m\u001b[43m)\u001b[49m\u001b[43m,\u001b[49m\u001b[43m \u001b[49m\u001b[43m(\u001b[49m\u001b[43msplit_idx\u001b[49m\u001b[43m,\u001b[49m\u001b[43m \u001b[49m\u001b[43m(\u001b[49m\u001b[43mtrain\u001b[49m\u001b[43m,\u001b[49m\u001b[43m \u001b[49m\u001b[43mtest\u001b[49m\u001b[43m)\u001b[49m\u001b[43m)\u001b[49m\u001b[43m \u001b[49m\u001b[38;5;129;43;01min\u001b[39;49;00m\u001b[43m \u001b[49m\u001b[43mproduct\u001b[49m\u001b[43m(\u001b[49m\n\u001b[0;32m    851\u001b[0m \u001b[43m        \u001b[49m\u001b[38;5;28;43menumerate\u001b[39;49m\u001b[43m(\u001b[49m\u001b[43mcandidate_params\u001b[49m\u001b[43m)\u001b[49m\u001b[43m,\u001b[49m\u001b[43m \u001b[49m\u001b[38;5;28;43menumerate\u001b[39;49m\u001b[43m(\u001b[49m\u001b[43mcv\u001b[49m\u001b[38;5;241;43m.\u001b[39;49m\u001b[43msplit\u001b[49m\u001b[43m(\u001b[49m\u001b[43mX\u001b[49m\u001b[43m,\u001b[49m\u001b[43m \u001b[49m\u001b[43my\u001b[49m\u001b[43m,\u001b[49m\u001b[43m \u001b[49m\u001b[43mgroups\u001b[49m\u001b[43m)\u001b[49m\u001b[43m)\u001b[49m\n\u001b[0;32m    852\u001b[0m \u001b[43m    \u001b[49m\u001b[43m)\u001b[49m\n\u001b[0;32m    853\u001b[0m \u001b[43m\u001b[49m\u001b[43m)\u001b[49m\n\u001b[0;32m    855\u001b[0m \u001b[38;5;28;01mif\u001b[39;00m \u001b[38;5;28mlen\u001b[39m(out) \u001b[38;5;241m<\u001b[39m \u001b[38;5;241m1\u001b[39m:\n\u001b[0;32m    856\u001b[0m     \u001b[38;5;28;01mraise\u001b[39;00m \u001b[38;5;167;01mValueError\u001b[39;00m(\n\u001b[0;32m    857\u001b[0m         \u001b[38;5;124m\"\u001b[39m\u001b[38;5;124mNo fits were performed. \u001b[39m\u001b[38;5;124m\"\u001b[39m\n\u001b[0;32m    858\u001b[0m         \u001b[38;5;124m\"\u001b[39m\u001b[38;5;124mWas the CV iterator empty? \u001b[39m\u001b[38;5;124m\"\u001b[39m\n\u001b[0;32m    859\u001b[0m         \u001b[38;5;124m\"\u001b[39m\u001b[38;5;124mWere there no candidates?\u001b[39m\u001b[38;5;124m\"\u001b[39m\n\u001b[0;32m    860\u001b[0m     )\n",
      "File \u001b[1;32m~\\anaconda3\\lib\\site-packages\\joblib\\parallel.py:1046\u001b[0m, in \u001b[0;36mParallel.__call__\u001b[1;34m(self, iterable)\u001b[0m\n\u001b[0;32m   1043\u001b[0m \u001b[38;5;28;01mif\u001b[39;00m \u001b[38;5;28mself\u001b[39m\u001b[38;5;241m.\u001b[39mdispatch_one_batch(iterator):\n\u001b[0;32m   1044\u001b[0m     \u001b[38;5;28mself\u001b[39m\u001b[38;5;241m.\u001b[39m_iterating \u001b[38;5;241m=\u001b[39m \u001b[38;5;28mself\u001b[39m\u001b[38;5;241m.\u001b[39m_original_iterator \u001b[38;5;129;01mis\u001b[39;00m \u001b[38;5;129;01mnot\u001b[39;00m \u001b[38;5;28;01mNone\u001b[39;00m\n\u001b[1;32m-> 1046\u001b[0m \u001b[38;5;28;01mwhile\u001b[39;00m \u001b[38;5;28;43mself\u001b[39;49m\u001b[38;5;241;43m.\u001b[39;49m\u001b[43mdispatch_one_batch\u001b[49m\u001b[43m(\u001b[49m\u001b[43miterator\u001b[49m\u001b[43m)\u001b[49m:\n\u001b[0;32m   1047\u001b[0m     \u001b[38;5;28;01mpass\u001b[39;00m\n\u001b[0;32m   1049\u001b[0m \u001b[38;5;28;01mif\u001b[39;00m pre_dispatch \u001b[38;5;241m==\u001b[39m \u001b[38;5;124m\"\u001b[39m\u001b[38;5;124mall\u001b[39m\u001b[38;5;124m\"\u001b[39m \u001b[38;5;129;01mor\u001b[39;00m n_jobs \u001b[38;5;241m==\u001b[39m \u001b[38;5;241m1\u001b[39m:\n\u001b[0;32m   1050\u001b[0m     \u001b[38;5;66;03m# The iterable was consumed all at once by the above for loop.\u001b[39;00m\n\u001b[0;32m   1051\u001b[0m     \u001b[38;5;66;03m# No need to wait for async callbacks to trigger to\u001b[39;00m\n\u001b[0;32m   1052\u001b[0m     \u001b[38;5;66;03m# consumption.\u001b[39;00m\n",
      "File \u001b[1;32m~\\anaconda3\\lib\\site-packages\\joblib\\parallel.py:861\u001b[0m, in \u001b[0;36mParallel.dispatch_one_batch\u001b[1;34m(self, iterator)\u001b[0m\n\u001b[0;32m    859\u001b[0m     \u001b[38;5;28;01mreturn\u001b[39;00m \u001b[38;5;28;01mFalse\u001b[39;00m\n\u001b[0;32m    860\u001b[0m \u001b[38;5;28;01melse\u001b[39;00m:\n\u001b[1;32m--> 861\u001b[0m     \u001b[38;5;28;43mself\u001b[39;49m\u001b[38;5;241;43m.\u001b[39;49m\u001b[43m_dispatch\u001b[49m\u001b[43m(\u001b[49m\u001b[43mtasks\u001b[49m\u001b[43m)\u001b[49m\n\u001b[0;32m    862\u001b[0m     \u001b[38;5;28;01mreturn\u001b[39;00m \u001b[38;5;28;01mTrue\u001b[39;00m\n",
      "File \u001b[1;32m~\\anaconda3\\lib\\site-packages\\joblib\\parallel.py:779\u001b[0m, in \u001b[0;36mParallel._dispatch\u001b[1;34m(self, batch)\u001b[0m\n\u001b[0;32m    777\u001b[0m \u001b[38;5;28;01mwith\u001b[39;00m \u001b[38;5;28mself\u001b[39m\u001b[38;5;241m.\u001b[39m_lock:\n\u001b[0;32m    778\u001b[0m     job_idx \u001b[38;5;241m=\u001b[39m \u001b[38;5;28mlen\u001b[39m(\u001b[38;5;28mself\u001b[39m\u001b[38;5;241m.\u001b[39m_jobs)\n\u001b[1;32m--> 779\u001b[0m     job \u001b[38;5;241m=\u001b[39m \u001b[38;5;28;43mself\u001b[39;49m\u001b[38;5;241;43m.\u001b[39;49m\u001b[43m_backend\u001b[49m\u001b[38;5;241;43m.\u001b[39;49m\u001b[43mapply_async\u001b[49m\u001b[43m(\u001b[49m\u001b[43mbatch\u001b[49m\u001b[43m,\u001b[49m\u001b[43m \u001b[49m\u001b[43mcallback\u001b[49m\u001b[38;5;241;43m=\u001b[39;49m\u001b[43mcb\u001b[49m\u001b[43m)\u001b[49m\n\u001b[0;32m    780\u001b[0m     \u001b[38;5;66;03m# A job can complete so quickly than its callback is\u001b[39;00m\n\u001b[0;32m    781\u001b[0m     \u001b[38;5;66;03m# called before we get here, causing self._jobs to\u001b[39;00m\n\u001b[0;32m    782\u001b[0m     \u001b[38;5;66;03m# grow. To ensure correct results ordering, .insert is\u001b[39;00m\n\u001b[0;32m    783\u001b[0m     \u001b[38;5;66;03m# used (rather than .append) in the following line\u001b[39;00m\n\u001b[0;32m    784\u001b[0m     \u001b[38;5;28mself\u001b[39m\u001b[38;5;241m.\u001b[39m_jobs\u001b[38;5;241m.\u001b[39minsert(job_idx, job)\n",
      "File \u001b[1;32m~\\anaconda3\\lib\\site-packages\\joblib\\_parallel_backends.py:208\u001b[0m, in \u001b[0;36mSequentialBackend.apply_async\u001b[1;34m(self, func, callback)\u001b[0m\n\u001b[0;32m    206\u001b[0m \u001b[38;5;28;01mdef\u001b[39;00m \u001b[38;5;21mapply_async\u001b[39m(\u001b[38;5;28mself\u001b[39m, func, callback\u001b[38;5;241m=\u001b[39m\u001b[38;5;28;01mNone\u001b[39;00m):\n\u001b[0;32m    207\u001b[0m     \u001b[38;5;124;03m\"\"\"Schedule a func to be run\"\"\"\u001b[39;00m\n\u001b[1;32m--> 208\u001b[0m     result \u001b[38;5;241m=\u001b[39m \u001b[43mImmediateResult\u001b[49m\u001b[43m(\u001b[49m\u001b[43mfunc\u001b[49m\u001b[43m)\u001b[49m\n\u001b[0;32m    209\u001b[0m     \u001b[38;5;28;01mif\u001b[39;00m callback:\n\u001b[0;32m    210\u001b[0m         callback(result)\n",
      "File \u001b[1;32m~\\anaconda3\\lib\\site-packages\\joblib\\_parallel_backends.py:572\u001b[0m, in \u001b[0;36mImmediateResult.__init__\u001b[1;34m(self, batch)\u001b[0m\n\u001b[0;32m    569\u001b[0m \u001b[38;5;28;01mdef\u001b[39;00m \u001b[38;5;21m__init__\u001b[39m(\u001b[38;5;28mself\u001b[39m, batch):\n\u001b[0;32m    570\u001b[0m     \u001b[38;5;66;03m# Don't delay the application, to avoid keeping the input\u001b[39;00m\n\u001b[0;32m    571\u001b[0m     \u001b[38;5;66;03m# arguments in memory\u001b[39;00m\n\u001b[1;32m--> 572\u001b[0m     \u001b[38;5;28mself\u001b[39m\u001b[38;5;241m.\u001b[39mresults \u001b[38;5;241m=\u001b[39m \u001b[43mbatch\u001b[49m\u001b[43m(\u001b[49m\u001b[43m)\u001b[49m\n",
      "File \u001b[1;32m~\\anaconda3\\lib\\site-packages\\joblib\\parallel.py:262\u001b[0m, in \u001b[0;36mBatchedCalls.__call__\u001b[1;34m(self)\u001b[0m\n\u001b[0;32m    258\u001b[0m \u001b[38;5;28;01mdef\u001b[39;00m \u001b[38;5;21m__call__\u001b[39m(\u001b[38;5;28mself\u001b[39m):\n\u001b[0;32m    259\u001b[0m     \u001b[38;5;66;03m# Set the default nested backend to self._backend but do not set the\u001b[39;00m\n\u001b[0;32m    260\u001b[0m     \u001b[38;5;66;03m# change the default number of processes to -1\u001b[39;00m\n\u001b[0;32m    261\u001b[0m     \u001b[38;5;28;01mwith\u001b[39;00m parallel_backend(\u001b[38;5;28mself\u001b[39m\u001b[38;5;241m.\u001b[39m_backend, n_jobs\u001b[38;5;241m=\u001b[39m\u001b[38;5;28mself\u001b[39m\u001b[38;5;241m.\u001b[39m_n_jobs):\n\u001b[1;32m--> 262\u001b[0m         \u001b[38;5;28;01mreturn\u001b[39;00m [func(\u001b[38;5;241m*\u001b[39margs, \u001b[38;5;241m*\u001b[39m\u001b[38;5;241m*\u001b[39mkwargs)\n\u001b[0;32m    263\u001b[0m                 \u001b[38;5;28;01mfor\u001b[39;00m func, args, kwargs \u001b[38;5;129;01min\u001b[39;00m \u001b[38;5;28mself\u001b[39m\u001b[38;5;241m.\u001b[39mitems]\n",
      "File \u001b[1;32m~\\anaconda3\\lib\\site-packages\\joblib\\parallel.py:262\u001b[0m, in \u001b[0;36m<listcomp>\u001b[1;34m(.0)\u001b[0m\n\u001b[0;32m    258\u001b[0m \u001b[38;5;28;01mdef\u001b[39;00m \u001b[38;5;21m__call__\u001b[39m(\u001b[38;5;28mself\u001b[39m):\n\u001b[0;32m    259\u001b[0m     \u001b[38;5;66;03m# Set the default nested backend to self._backend but do not set the\u001b[39;00m\n\u001b[0;32m    260\u001b[0m     \u001b[38;5;66;03m# change the default number of processes to -1\u001b[39;00m\n\u001b[0;32m    261\u001b[0m     \u001b[38;5;28;01mwith\u001b[39;00m parallel_backend(\u001b[38;5;28mself\u001b[39m\u001b[38;5;241m.\u001b[39m_backend, n_jobs\u001b[38;5;241m=\u001b[39m\u001b[38;5;28mself\u001b[39m\u001b[38;5;241m.\u001b[39m_n_jobs):\n\u001b[1;32m--> 262\u001b[0m         \u001b[38;5;28;01mreturn\u001b[39;00m [func(\u001b[38;5;241m*\u001b[39margs, \u001b[38;5;241m*\u001b[39m\u001b[38;5;241m*\u001b[39mkwargs)\n\u001b[0;32m    263\u001b[0m                 \u001b[38;5;28;01mfor\u001b[39;00m func, args, kwargs \u001b[38;5;129;01min\u001b[39;00m \u001b[38;5;28mself\u001b[39m\u001b[38;5;241m.\u001b[39mitems]\n",
      "File \u001b[1;32m~\\anaconda3\\lib\\site-packages\\sklearn\\utils\\fixes.py:216\u001b[0m, in \u001b[0;36m_FuncWrapper.__call__\u001b[1;34m(self, *args, **kwargs)\u001b[0m\n\u001b[0;32m    214\u001b[0m \u001b[38;5;28;01mdef\u001b[39;00m \u001b[38;5;21m__call__\u001b[39m(\u001b[38;5;28mself\u001b[39m, \u001b[38;5;241m*\u001b[39margs, \u001b[38;5;241m*\u001b[39m\u001b[38;5;241m*\u001b[39mkwargs):\n\u001b[0;32m    215\u001b[0m     \u001b[38;5;28;01mwith\u001b[39;00m config_context(\u001b[38;5;241m*\u001b[39m\u001b[38;5;241m*\u001b[39m\u001b[38;5;28mself\u001b[39m\u001b[38;5;241m.\u001b[39mconfig):\n\u001b[1;32m--> 216\u001b[0m         \u001b[38;5;28;01mreturn\u001b[39;00m \u001b[38;5;28mself\u001b[39m\u001b[38;5;241m.\u001b[39mfunction(\u001b[38;5;241m*\u001b[39margs, \u001b[38;5;241m*\u001b[39m\u001b[38;5;241m*\u001b[39mkwargs)\n",
      "File \u001b[1;32m~\\anaconda3\\lib\\site-packages\\sklearn\\model_selection\\_validation.py:680\u001b[0m, in \u001b[0;36m_fit_and_score\u001b[1;34m(estimator, X, y, scorer, train, test, verbose, parameters, fit_params, return_train_score, return_parameters, return_n_test_samples, return_times, return_estimator, split_progress, candidate_progress, error_score)\u001b[0m\n\u001b[0;32m    678\u001b[0m         estimator\u001b[38;5;241m.\u001b[39mfit(X_train, \u001b[38;5;241m*\u001b[39m\u001b[38;5;241m*\u001b[39mfit_params)\n\u001b[0;32m    679\u001b[0m     \u001b[38;5;28;01melse\u001b[39;00m:\n\u001b[1;32m--> 680\u001b[0m         estimator\u001b[38;5;241m.\u001b[39mfit(X_train, y_train, \u001b[38;5;241m*\u001b[39m\u001b[38;5;241m*\u001b[39mfit_params)\n\u001b[0;32m    682\u001b[0m \u001b[38;5;28;01mexcept\u001b[39;00m \u001b[38;5;167;01mException\u001b[39;00m:\n\u001b[0;32m    683\u001b[0m     \u001b[38;5;66;03m# Note fit time as time until error\u001b[39;00m\n\u001b[0;32m    684\u001b[0m     fit_time \u001b[38;5;241m=\u001b[39m time\u001b[38;5;241m.\u001b[39mtime() \u001b[38;5;241m-\u001b[39m start_time\n",
      "File \u001b[1;32m~\\anaconda3\\lib\\site-packages\\sklearn\\tree\\_classes.py:937\u001b[0m, in \u001b[0;36mDecisionTreeClassifier.fit\u001b[1;34m(self, X, y, sample_weight, check_input, X_idx_sorted)\u001b[0m\n\u001b[0;32m    899\u001b[0m \u001b[38;5;28;01mdef\u001b[39;00m \u001b[38;5;21mfit\u001b[39m(\n\u001b[0;32m    900\u001b[0m     \u001b[38;5;28mself\u001b[39m, X, y, sample_weight\u001b[38;5;241m=\u001b[39m\u001b[38;5;28;01mNone\u001b[39;00m, check_input\u001b[38;5;241m=\u001b[39m\u001b[38;5;28;01mTrue\u001b[39;00m, X_idx_sorted\u001b[38;5;241m=\u001b[39m\u001b[38;5;124m\"\u001b[39m\u001b[38;5;124mdeprecated\u001b[39m\u001b[38;5;124m\"\u001b[39m\n\u001b[0;32m    901\u001b[0m ):\n\u001b[0;32m    902\u001b[0m     \u001b[38;5;124;03m\"\"\"Build a decision tree classifier from the training set (X, y).\u001b[39;00m\n\u001b[0;32m    903\u001b[0m \n\u001b[0;32m    904\u001b[0m \u001b[38;5;124;03m    Parameters\u001b[39;00m\n\u001b[1;32m   (...)\u001b[0m\n\u001b[0;32m    934\u001b[0m \u001b[38;5;124;03m        Fitted estimator.\u001b[39;00m\n\u001b[0;32m    935\u001b[0m \u001b[38;5;124;03m    \"\"\"\u001b[39;00m\n\u001b[1;32m--> 937\u001b[0m     \u001b[38;5;28;43msuper\u001b[39;49m\u001b[43m(\u001b[49m\u001b[43m)\u001b[49m\u001b[38;5;241;43m.\u001b[39;49m\u001b[43mfit\u001b[49m\u001b[43m(\u001b[49m\n\u001b[0;32m    938\u001b[0m \u001b[43m        \u001b[49m\u001b[43mX\u001b[49m\u001b[43m,\u001b[49m\n\u001b[0;32m    939\u001b[0m \u001b[43m        \u001b[49m\u001b[43my\u001b[49m\u001b[43m,\u001b[49m\n\u001b[0;32m    940\u001b[0m \u001b[43m        \u001b[49m\u001b[43msample_weight\u001b[49m\u001b[38;5;241;43m=\u001b[39;49m\u001b[43msample_weight\u001b[49m\u001b[43m,\u001b[49m\n\u001b[0;32m    941\u001b[0m \u001b[43m        \u001b[49m\u001b[43mcheck_input\u001b[49m\u001b[38;5;241;43m=\u001b[39;49m\u001b[43mcheck_input\u001b[49m\u001b[43m,\u001b[49m\n\u001b[0;32m    942\u001b[0m \u001b[43m        \u001b[49m\u001b[43mX_idx_sorted\u001b[49m\u001b[38;5;241;43m=\u001b[39;49m\u001b[43mX_idx_sorted\u001b[49m\u001b[43m,\u001b[49m\n\u001b[0;32m    943\u001b[0m \u001b[43m    \u001b[49m\u001b[43m)\u001b[49m\n\u001b[0;32m    944\u001b[0m     \u001b[38;5;28;01mreturn\u001b[39;00m \u001b[38;5;28mself\u001b[39m\n",
      "File \u001b[1;32m~\\anaconda3\\lib\\site-packages\\sklearn\\tree\\_classes.py:165\u001b[0m, in \u001b[0;36mBaseDecisionTree.fit\u001b[1;34m(self, X, y, sample_weight, check_input, X_idx_sorted)\u001b[0m\n\u001b[0;32m    163\u001b[0m check_X_params \u001b[38;5;241m=\u001b[39m \u001b[38;5;28mdict\u001b[39m(dtype\u001b[38;5;241m=\u001b[39mDTYPE, accept_sparse\u001b[38;5;241m=\u001b[39m\u001b[38;5;124m\"\u001b[39m\u001b[38;5;124mcsc\u001b[39m\u001b[38;5;124m\"\u001b[39m)\n\u001b[0;32m    164\u001b[0m check_y_params \u001b[38;5;241m=\u001b[39m \u001b[38;5;28mdict\u001b[39m(ensure_2d\u001b[38;5;241m=\u001b[39m\u001b[38;5;28;01mFalse\u001b[39;00m, dtype\u001b[38;5;241m=\u001b[39m\u001b[38;5;28;01mNone\u001b[39;00m)\n\u001b[1;32m--> 165\u001b[0m X, y \u001b[38;5;241m=\u001b[39m \u001b[38;5;28;43mself\u001b[39;49m\u001b[38;5;241;43m.\u001b[39;49m\u001b[43m_validate_data\u001b[49m\u001b[43m(\u001b[49m\n\u001b[0;32m    166\u001b[0m \u001b[43m    \u001b[49m\u001b[43mX\u001b[49m\u001b[43m,\u001b[49m\u001b[43m \u001b[49m\u001b[43my\u001b[49m\u001b[43m,\u001b[49m\u001b[43m \u001b[49m\u001b[43mvalidate_separately\u001b[49m\u001b[38;5;241;43m=\u001b[39;49m\u001b[43m(\u001b[49m\u001b[43mcheck_X_params\u001b[49m\u001b[43m,\u001b[49m\u001b[43m \u001b[49m\u001b[43mcheck_y_params\u001b[49m\u001b[43m)\u001b[49m\n\u001b[0;32m    167\u001b[0m \u001b[43m\u001b[49m\u001b[43m)\u001b[49m\n\u001b[0;32m    168\u001b[0m \u001b[38;5;28;01mif\u001b[39;00m issparse(X):\n\u001b[0;32m    169\u001b[0m     X\u001b[38;5;241m.\u001b[39msort_indices()\n",
      "File \u001b[1;32m~\\anaconda3\\lib\\site-packages\\sklearn\\base.py:578\u001b[0m, in \u001b[0;36mBaseEstimator._validate_data\u001b[1;34m(self, X, y, reset, validate_separately, **check_params)\u001b[0m\n\u001b[0;32m    572\u001b[0m \u001b[38;5;28;01mif\u001b[39;00m validate_separately:\n\u001b[0;32m    573\u001b[0m     \u001b[38;5;66;03m# We need this because some estimators validate X and y\u001b[39;00m\n\u001b[0;32m    574\u001b[0m     \u001b[38;5;66;03m# separately, and in general, separately calling check_array()\u001b[39;00m\n\u001b[0;32m    575\u001b[0m     \u001b[38;5;66;03m# on X and y isn't equivalent to just calling check_X_y()\u001b[39;00m\n\u001b[0;32m    576\u001b[0m     \u001b[38;5;66;03m# :(\u001b[39;00m\n\u001b[0;32m    577\u001b[0m     check_X_params, check_y_params \u001b[38;5;241m=\u001b[39m validate_separately\n\u001b[1;32m--> 578\u001b[0m     X \u001b[38;5;241m=\u001b[39m check_array(X, \u001b[38;5;241m*\u001b[39m\u001b[38;5;241m*\u001b[39mcheck_X_params)\n\u001b[0;32m    579\u001b[0m     y \u001b[38;5;241m=\u001b[39m check_array(y, \u001b[38;5;241m*\u001b[39m\u001b[38;5;241m*\u001b[39mcheck_y_params)\n\u001b[0;32m    580\u001b[0m \u001b[38;5;28;01melse\u001b[39;00m:\n",
      "File \u001b[1;32m~\\anaconda3\\lib\\site-packages\\sklearn\\utils\\validation.py:746\u001b[0m, in \u001b[0;36mcheck_array\u001b[1;34m(array, accept_sparse, accept_large_sparse, dtype, order, copy, force_all_finite, ensure_2d, allow_nd, ensure_min_samples, ensure_min_features, estimator)\u001b[0m\n\u001b[0;32m    744\u001b[0m         array \u001b[38;5;241m=\u001b[39m array\u001b[38;5;241m.\u001b[39mastype(dtype, casting\u001b[38;5;241m=\u001b[39m\u001b[38;5;124m\"\u001b[39m\u001b[38;5;124munsafe\u001b[39m\u001b[38;5;124m\"\u001b[39m, copy\u001b[38;5;241m=\u001b[39m\u001b[38;5;28;01mFalse\u001b[39;00m)\n\u001b[0;32m    745\u001b[0m     \u001b[38;5;28;01melse\u001b[39;00m:\n\u001b[1;32m--> 746\u001b[0m         array \u001b[38;5;241m=\u001b[39m \u001b[43mnp\u001b[49m\u001b[38;5;241;43m.\u001b[39;49m\u001b[43masarray\u001b[49m\u001b[43m(\u001b[49m\u001b[43marray\u001b[49m\u001b[43m,\u001b[49m\u001b[43m \u001b[49m\u001b[43morder\u001b[49m\u001b[38;5;241;43m=\u001b[39;49m\u001b[43morder\u001b[49m\u001b[43m,\u001b[49m\u001b[43m \u001b[49m\u001b[43mdtype\u001b[49m\u001b[38;5;241;43m=\u001b[39;49m\u001b[43mdtype\u001b[49m\u001b[43m)\u001b[49m\n\u001b[0;32m    747\u001b[0m \u001b[38;5;28;01mexcept\u001b[39;00m ComplexWarning \u001b[38;5;28;01mas\u001b[39;00m complex_warning:\n\u001b[0;32m    748\u001b[0m     \u001b[38;5;28;01mraise\u001b[39;00m \u001b[38;5;167;01mValueError\u001b[39;00m(\n\u001b[0;32m    749\u001b[0m         \u001b[38;5;124m\"\u001b[39m\u001b[38;5;124mComplex data not supported\u001b[39m\u001b[38;5;130;01m\\n\u001b[39;00m\u001b[38;5;132;01m{}\u001b[39;00m\u001b[38;5;130;01m\\n\u001b[39;00m\u001b[38;5;124m\"\u001b[39m\u001b[38;5;241m.\u001b[39mformat(array)\n\u001b[0;32m    750\u001b[0m     ) \u001b[38;5;28;01mfrom\u001b[39;00m \u001b[38;5;21;01mcomplex_warning\u001b[39;00m\n",
      "File \u001b[1;32m~\\anaconda3\\lib\\site-packages\\pandas\\core\\generic.py:2064\u001b[0m, in \u001b[0;36mNDFrame.__array__\u001b[1;34m(self, dtype)\u001b[0m\n\u001b[0;32m   2063\u001b[0m \u001b[38;5;28;01mdef\u001b[39;00m \u001b[38;5;21m__array__\u001b[39m(\u001b[38;5;28mself\u001b[39m, dtype: npt\u001b[38;5;241m.\u001b[39mDTypeLike \u001b[38;5;241m|\u001b[39m \u001b[38;5;28;01mNone\u001b[39;00m \u001b[38;5;241m=\u001b[39m \u001b[38;5;28;01mNone\u001b[39;00m) \u001b[38;5;241m-\u001b[39m\u001b[38;5;241m>\u001b[39m np\u001b[38;5;241m.\u001b[39mndarray:\n\u001b[1;32m-> 2064\u001b[0m     \u001b[38;5;28;01mreturn\u001b[39;00m \u001b[43mnp\u001b[49m\u001b[38;5;241;43m.\u001b[39;49m\u001b[43masarray\u001b[49m\u001b[43m(\u001b[49m\u001b[38;5;28;43mself\u001b[39;49m\u001b[38;5;241;43m.\u001b[39;49m\u001b[43m_values\u001b[49m\u001b[43m,\u001b[49m\u001b[43m \u001b[49m\u001b[43mdtype\u001b[49m\u001b[38;5;241;43m=\u001b[39;49m\u001b[43mdtype\u001b[49m\u001b[43m)\u001b[49m\n",
      "\u001b[1;31mKeyboardInterrupt\u001b[0m: "
     ]
    }
   ],
   "source": [
    "grid_searh.fit(X_train,y_train)"
   ]
  },
  {
   "cell_type": "code",
   "execution_count": null,
   "id": "3a735b84",
   "metadata": {},
   "outputs": [],
   "source": [
    "grid_searh.best_params_"
   ]
  },
  {
   "cell_type": "code",
   "execution_count": null,
   "id": "f5055ac7",
   "metadata": {},
   "outputs": [],
   "source": [
    "model_with_best_params=DecisionTreeClassifier(criterion= 'gini',max_depth= 6,min_samples_leaf= 4,min_samples_split= 6,splitter='random')"
   ]
  },
  {
   "cell_type": "code",
   "execution_count": null,
   "id": "bf7adc13",
   "metadata": {},
   "outputs": [],
   "source": [
    "model_with_best_params.fit(X_train,y_train)"
   ]
  },
  {
   "cell_type": "code",
   "execution_count": null,
   "id": "4603c083",
   "metadata": {},
   "outputs": [],
   "source": [
    "from sklearn import tree\n",
    "import matplotlib.pyplot as plt\n",
    "fig=plt.figure(figsize=(25,15))\n",
    "tree.plot_tree(model_with_best_params,filled=True,fontsize=10)"
   ]
  },
  {
   "cell_type": "code",
   "execution_count": null,
   "id": "4e2c1351",
   "metadata": {},
   "outputs": [],
   "source": [
    "y_prediction2=model_with_best_params.predict(X_test)"
   ]
  },
  {
   "cell_type": "code",
   "execution_count": null,
   "id": "893557a3",
   "metadata": {},
   "outputs": [],
   "source": [
    "accuracy_score(y_test,y_prediction2)"
   ]
  },
  {
   "cell_type": "code",
   "execution_count": null,
   "id": "06507b8d",
   "metadata": {},
   "outputs": [],
   "source": [
    "#logistic regression, SVM ,  going forward(RF,XB,GB,AB)"
   ]
  },
  {
   "cell_type": "code",
   "execution_count": null,
   "id": "dde20890",
   "metadata": {},
   "outputs": [],
   "source": [
    "#Implement the decision tree regressor\n",
    "dataset:https://archive.ics.uci.edu/ml/datasets/individual+household+electric+power+consumption\n",
    "        \n",
    "take_refrence_from_here:https://scikit-learn.org/stable/modules/generated/sklearn.tree.DecisionTreeRegressor.html#sklearn.tree.DecisionTreeRegressor"
   ]
  },
  {
   "cell_type": "code",
   "execution_count": null,
   "id": "dcc17418",
   "metadata": {},
   "outputs": [],
   "source": [
    "from sklearn.ensemble import RandomForestClassifier\n",
    "Rf_model=RandomForestClassifier()"
   ]
  },
  {
   "cell_type": "code",
   "execution_count": null,
   "id": "1369771b",
   "metadata": {},
   "outputs": [],
   "source": [
    "Rf_model.fit(X_train,y_train)"
   ]
  },
  {
   "cell_type": "code",
   "execution_count": null,
   "id": "0b1ecfb9",
   "metadata": {},
   "outputs": [],
   "source": [
    "y_pred_rf=Rf_model.predict(X_test)"
   ]
  },
  {
   "cell_type": "code",
   "execution_count": null,
   "id": "54ac1c68",
   "metadata": {},
   "outputs": [],
   "source": [
    "accuracy_score(y_test,y_pred_rf)"
   ]
  },
  {
   "cell_type": "code",
   "execution_count": null,
   "id": "8990e767",
   "metadata": {},
   "outputs": [],
   "source": [
    "# we are tuning three hyperparameters right now, we are passing the different values for both parameters\n",
    "grid_param = {\n",
    "    \"n_estimators\" : [90,100,115,130],\n",
    "    'criterion': ['gini', 'entropy'],\n",
    "    'max_depth' : range(2,20,1),\n",
    "    'min_samples_leaf' : range(1,10,1),\n",
    "    'min_samples_split': range(2,10,1),\n",
    "    'max_features' : ['auto','log2']\n",
    "}"
   ]
  },
  {
   "cell_type": "code",
   "execution_count": null,
   "id": "123f19b7",
   "metadata": {},
   "outputs": [],
   "source": [
    "from sklearn.model_selection import GridSearchCV\n",
    "grid_searh=GridSearchCV(estimator=Rf_model,param_grid=grid_param,cv=3,verbose=2,n_jobs=-1)"
   ]
  },
  {
   "cell_type": "code",
   "execution_count": null,
   "id": "26223afc",
   "metadata": {},
   "outputs": [],
   "source": [
    "grid_searh.fit(X_train,y_train)"
   ]
  },
  {
   "cell_type": "code",
   "execution_count": null,
   "id": "ded316c4",
   "metadata": {},
   "outputs": [],
   "source": [
    "grid_searh.best_params_"
   ]
  },
  {
   "cell_type": "code",
   "execution_count": null,
   "id": "05aa1a3f",
   "metadata": {},
   "outputs": [],
   "source": [
    "Rf_model_with_best_params=RandomForestClassifier(criterion='gini',max_depth= 14,max_features= 'log2',min_samples_leaf= 1,min_samples_split= 2,n_estimators=115)"
   ]
  },
  {
   "cell_type": "code",
   "execution_count": null,
   "id": "27ee424f",
   "metadata": {},
   "outputs": [],
   "source": [
    "Rf_model_with_best_params.fit(X_train,y_train)"
   ]
  },
  {
   "cell_type": "code",
   "execution_count": null,
   "id": "e04d3ab6",
   "metadata": {},
   "outputs": [],
   "source": [
    "y_predict_rf_bp=Rf_model_with_best_params.predict(X_test)"
   ]
  },
  {
   "cell_type": "code",
   "execution_count": null,
   "id": "0b8e4db8",
   "metadata": {},
   "outputs": [],
   "source": [
    "accuracy_score(y_test,y_predict_rf_bp)"
   ]
  },
  {
   "cell_type": "code",
   "execution_count": null,
   "id": "67d6e94d",
   "metadata": {},
   "outputs": [],
   "source": []
  },
  {
   "cell_type": "code",
   "execution_count": null,
   "id": "3f3264a3",
   "metadata": {},
   "outputs": [],
   "source": [
    "from sklearn.svm import SVC\n",
    "from sklearn.ensemble import BaggingClassifier\n",
    "from sklearn.datasets import make_classification\n",
    "\n",
    "model_bagging_svc = BaggingClassifier(base_estimator=SVC(),n_estimators=50, random_state=0).fit(X_train,y_train)\n"
   ]
  },
  {
   "cell_type": "code",
   "execution_count": null,
   "id": "08dc403f",
   "metadata": {},
   "outputs": [],
   "source": [
    "y_predict_bagging=model_bagging_svc.predict(X_test)\n"
   ]
  },
  {
   "cell_type": "code",
   "execution_count": null,
   "id": "a47a2762",
   "metadata": {},
   "outputs": [],
   "source": [
    "accuracy_score(y_test,y_predict_bagging)"
   ]
  },
  {
   "cell_type": "code",
   "execution_count": null,
   "id": "ae604236",
   "metadata": {},
   "outputs": [],
   "source": [
    "#use bagging classiifer and regressor, extra tree classifier and regressor, voting classifer and regressor and random forest classifier and regressor on top of House hold consumpltion data and cencus data\n",
    "\n",
    "data link: https://archive.ics.uci.edu/ml/datasets/individual+household+electric+power+consumption\n",
    "        https://archive.ics.uci.edu/ml/datasets/census+income\n",
    "    \n",
    "sklearn_link:https://scikit-learn.org/stable/modules/classes.html#module-sklearn.ensemble"
   ]
  },
  {
   "cell_type": "code",
   "execution_count": null,
   "id": "bf677253",
   "metadata": {},
   "outputs": [],
   "source": []
  }
 ],
 "metadata": {
  "kernelspec": {
   "display_name": "Python 3 (ipykernel)",
   "language": "python",
   "name": "python3"
  },
  "language_info": {
   "codemirror_mode": {
    "name": "ipython",
    "version": 3
   },
   "file_extension": ".py",
   "mimetype": "text/x-python",
   "name": "python",
   "nbconvert_exporter": "python",
   "pygments_lexer": "ipython3",
   "version": "3.9.12"
  }
 },
 "nbformat": 4,
 "nbformat_minor": 5
}
