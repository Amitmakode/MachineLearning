{
 "cells": [
  {
   "cell_type": "code",
   "execution_count": 3,
   "id": "90b99cd6",
   "metadata": {},
   "outputs": [],
   "source": [
    "###this file is not executed, executed file save in local drive of vaio"
   ]
  },
  {
   "cell_type": "code",
   "execution_count": null,
   "id": "d45c3ccb",
   "metadata": {},
   "outputs": [],
   "source": []
  },
  {
   "cell_type": "code",
   "execution_count": 1,
   "id": "d9e0bb8a",
   "metadata": {},
   "outputs": [],
   "source": [
    "#pip install markupsafe==2.0.1\n",
    "#pip install --user notebook\n",
    "#pip install pandas-profiling"
   ]
  },
  {
   "cell_type": "code",
   "execution_count": null,
   "id": "41ad487b",
   "metadata": {},
   "outputs": [],
   "source": [
    "import pandas as pd \n",
    "import numpy as np \n",
    "from sklearn.preprocessing import StandardScaler \n",
    "from sklearn.linear_model  import Ridge,Lasso,RidgeCV, LassoCV, ElasticNet, ElasticNetCV, LogisticRegression\n",
    "from sklearn.model_selection import train_test_split\n",
    "from statsmodels.stats.outliers_influence import variance_inflation_factor \n",
    "from sklearn.metrics import accuracy_score, confusion_matrix, roc_curve, roc_auc_score\n",
    "import matplotlib.pyplot as plt\n",
    "from pandas_profiling import ProfileReport\n",
    "import seaborn as sns\n",
    "import pickle"
   ]
  },
  {
   "cell_type": "code",
   "execution_count": null,
   "id": "29240254",
   "metadata": {},
   "outputs": [],
   "source": [
    "# this is open source dataset avaible on github\n",
    "df = pd.read_csv(\"https://raw.githubusercontent.com/plotly/datasets/master/diabetes.csv\")"
   ]
  },
  {
   "cell_type": "code",
   "execution_count": null,
   "id": "d3c3026d",
   "metadata": {},
   "outputs": [],
   "source": [
    "# we see here outcome as a lable column\n",
    "df"
   ]
  },
  {
   "cell_type": "code",
   "execution_count": null,
   "id": "63fb5225",
   "metadata": {},
   "outputs": [],
   "source": [
    "\"\"\"so by profiling reports we can analys data 1. in logistic regression there is not \n",
    "hard and fastrule about histogram. 2. we have take some knowledge about feature \n",
    "column name and rlation by expert or client for if there is some missing value\n",
    "so we need to fill it or not, 3. check the multicolinearity also, 4. observed data very\n",
    "sharply\"\"\"\n",
    "\n",
    "ProfileReport(df)"
   ]
  },
  {
   "cell_type": "code",
   "execution_count": null,
   "id": "9997e2bb",
   "metadata": {},
   "outputs": [],
   "source": [
    "# rpalce all zero by mean of this  column"
   ]
  },
  {
   "cell_type": "code",
   "execution_count": null,
   "id": "8de05572",
   "metadata": {},
   "outputs": [],
   "source": [
    "df['BMI'] = df['BMI'].replace(0 , df['BMI'].mean())"
   ]
  },
  {
   "cell_type": "code",
   "execution_count": null,
   "id": "e637850a",
   "metadata": {},
   "outputs": [],
   "source": [
    "df.columns"
   ]
  },
  {
   "cell_type": "code",
   "execution_count": null,
   "id": "422a05d0",
   "metadata": {},
   "outputs": [],
   "source": [
    "df['BloodPressure'] = df['BloodPressure'].replace(0,df['BloodPressure'].mean())"
   ]
  },
  {
   "cell_type": "code",
   "execution_count": null,
   "id": "d4ac2928",
   "metadata": {},
   "outputs": [],
   "source": [
    "df['Insulin'] = df['Insulin'].replace(0,df['Insulin'].mean())"
   ]
  },
  {
   "cell_type": "code",
   "execution_count": null,
   "id": "97f5a3e2",
   "metadata": {},
   "outputs": [],
   "source": [
    "df['Glucose'] = df['Glucose'].replace(0,df['Glucose'].mean())"
   ]
  },
  {
   "cell_type": "code",
   "execution_count": null,
   "id": "c5d0d4b8",
   "metadata": {},
   "outputs": [],
   "source": [
    "df['SkinThickness'] = df['SkinThickness'].replace(0,df['SkinThickness'].mean())"
   ]
  },
  {
   "cell_type": "code",
   "execution_count": null,
   "id": "fc986dbe",
   "metadata": {},
   "outputs": [],
   "source": [
    "ProfileReport(df)"
   ]
  },
  {
   "cell_type": "code",
   "execution_count": null,
   "id": "16fac46d",
   "metadata": {},
   "outputs": [],
   "source": [
    "# after observation data we find some outlier because of it skewness in data distribution\n",
    "# remove that outlier from data to do some short of certain operation\n",
    "\n",
    "fig, ax  = plt.subplots(figsize = (20,20))\n",
    "sns.boxplot(data = df , ax = ax)"
   ]
  },
  {
   "cell_type": "code",
   "execution_count": null,
   "id": "0b7f24a6",
   "metadata": {},
   "outputs": [],
   "source": [
    "# will remove outlier one by one cloumn with consider less loss of data"
   ]
  },
  {
   "cell_type": "code",
   "execution_count": null,
   "id": "945e2ff7",
   "metadata": {},
   "outputs": [],
   "source": [
    "q = df['Pregnancies'].quantile(.98)\n",
    "df_new = df[df['Pregnancies'] < q]\n",
    "\n",
    "q = df_new['BMI'].quantile(.99)\n",
    "df_new = df_new[df_new['BMI']< q]\n",
    "\n",
    "q = df_new['SkinThickness'].quantile(.99)\n",
    "df_new = df_new[df_new['SkinThickness']< q]\n",
    "\n",
    "q = df_new['Insulin'].quantile(.95)\n",
    "df_new = df_new[df_new['Insulin']< q]\n",
    "\n",
    "q = df_new['DiabetesPedigreeFunction'].quantile(.99)\n",
    "df_new = df_new[df_new['DiabetesPedigreeFunction']< q]\n",
    "\n",
    "\n",
    "q = df_new['Age'].quantile(.99)\n",
    "df_new = df_new[df_new['Age']< q]\n"
   ]
  },
  {
   "cell_type": "code",
   "execution_count": null,
   "id": "93104b0d",
   "metadata": {},
   "outputs": [],
   "source": [
    "# a function for remove outlier\n",
    "\"\"\"def outlier_removal(self,data):\n",
    "        def outlier_limits(col):\n",
    "            Q3, Q1 = np.nanpercentile(col, [75,25])\n",
    "            IQR= Q3-Q1\n",
    "            UL= Q3+1.5*IQR\n",
    "            LL= Q1-1.5*IQR\n",
    "            return UL, LL\n",
    "\n",
    "        for column in data.columns:\n",
    "            if data[column].dtype != 'int64':\n",
    "                UL, LL= outlier_limits(data[column])\n",
    "                data[column]= np.where((data[column] > UL) | (data[column] < LL), np.nan, data[column])\n",
    "\n",
    "        return data\"\"\"\n"
   ]
  },
  {
   "cell_type": "code",
   "execution_count": null,
   "id": "1bfa3f46",
   "metadata": {},
   "outputs": [],
   "source": [
    "df_new"
   ]
  },
  {
   "cell_type": "code",
   "execution_count": null,
   "id": "ef511605",
   "metadata": {},
   "outputs": [],
   "source": [
    "fig ,ax  = plt.subplots(figsize = (20,20))\n",
    "sns.boxplot(data = df_new , ax = ax)"
   ]
  },
  {
   "cell_type": "code",
   "execution_count": null,
   "id": "a3f82407",
   "metadata": {},
   "outputs": [],
   "source": [
    "# after remove outlier we focus  more on analys like maxi and min"
   ]
  },
  {
   "cell_type": "code",
   "execution_count": null,
   "id": "bcb05055",
   "metadata": {},
   "outputs": [],
   "source": [
    "# assign column to y and x axis "
   ]
  },
  {
   "cell_type": "code",
   "execution_count": null,
   "id": "37a22a38",
   "metadata": {},
   "outputs": [],
   "source": [
    "y = df_new['Outcome']\n",
    "y"
   ]
  },
  {
   "cell_type": "code",
   "execution_count": null,
   "id": "6cea4608",
   "metadata": {},
   "outputs": [],
   "source": [
    "X = df_new.drop(columns=['Outcome'])"
   ]
  },
  {
   "cell_type": "code",
   "execution_count": null,
   "id": "c37dad6e",
   "metadata": {},
   "outputs": [],
   "source": [
    " X"
   ]
  },
  {
   "cell_type": "code",
   "execution_count": null,
   "id": "22d91a9f",
   "metadata": {},
   "outputs": [],
   "source": [
    "# in this data range of columns is very high so we perform standard scaler operation \n",
    "\n",
    "scalar = StandardScaler()\n",
    "ProfileReport(pd.DataFrame(scalar.fit_transform(X)))\n"
   ]
  },
  {
   "cell_type": "code",
   "execution_count": null,
   "id": "34100c59",
   "metadata": {},
   "outputs": [],
   "source": [
    "X_scaled = scalar.fit_transform(X)"
   ]
  },
  {
   "cell_type": "code",
   "execution_count": null,
   "id": "a2173760",
   "metadata": {},
   "outputs": [],
   "source": [
    "X_scaled"
   ]
  },
  {
   "cell_type": "code",
   "execution_count": null,
   "id": "283dacce",
   "metadata": {},
   "outputs": [],
   "source": [
    "# after transform data below we create box plot again to diffrences\n",
    "\n",
    "df_new_scalar = pd.DataFrame(scalar.fit_transform(df_new))\n",
    "fig, ax  = plt.subplots(figsize = (20,20))\n",
    "sns.boxplot(data = df_new_scalar , ax = ax)"
   ]
  },
  {
   "cell_type": "code",
   "execution_count": null,
   "id": "caa2c39a",
   "metadata": {},
   "outputs": [],
   "source": [
    "X_scaled"
   ]
  },
  {
   "cell_type": "code",
   "execution_count": null,
   "id": "d3ea7fa6",
   "metadata": {},
   "outputs": [],
   "source": [
    "y"
   ]
  },
  {
   "cell_type": "code",
   "execution_count": null,
   "id": "d76cc8fb",
   "metadata": {},
   "outputs": [],
   "source": [
    "# to find out multicolinearity if vif > 10 at that condition multicolinearity occurs\n",
    "\n",
    "def vif_score(x):\n",
    "    scaler = StandardScaler()\n",
    "    arr = scaler.fit_transform(x)\n",
    "    return pd.DataFrame([[x.columns[i], variance_inflation_factor(arr,i)] for i in range(arr.shape[1])], columns=[\"FEATURE\", \"VIF_SCORE\"])\n"
   ]
  },
  {
   "cell_type": "code",
   "execution_count": null,
   "id": "bd51163a",
   "metadata": {},
   "outputs": [],
   "source": [
    "vif_score(X)"
   ]
  },
  {
   "cell_type": "code",
   "execution_count": null,
   "id": "299ca5c5",
   "metadata": {},
   "outputs": [],
   "source": [
    "train_test_split(X_scaled , y , test_size = .20 , random_state = 144)\n",
    "x_train, x_test, y_train, y_test = train_test_split(X_scaled , y , test_size = .20 , random_state = 144)"
   ]
  },
  {
   "cell_type": "code",
   "execution_count": null,
   "id": "92bade76",
   "metadata": {},
   "outputs": [],
   "source": [
    "x_train"
   ]
  },
  {
   "cell_type": "code",
   "execution_count": null,
   "id": "971ff2b5",
   "metadata": {},
   "outputs": [],
   "source": [
    "x_test"
   ]
  },
  {
   "cell_type": "code",
   "execution_count": null,
   "id": "b9616cff",
   "metadata": {},
   "outputs": [],
   "source": [
    "x_test[0]"
   ]
  },
  {
   "cell_type": "code",
   "execution_count": null,
   "id": "953fb361",
   "metadata": {},
   "outputs": [],
   "source": [
    "# in logistic regression it is also use regularization by it self\n",
    "\n",
    "LogisticRegression()"
   ]
  },
  {
   "cell_type": "code",
   "execution_count": null,
   "id": "bf913b8d",
   "metadata": {},
   "outputs": [],
   "source": [
    "# there is many types solver[newton-cg, saga, liblinear, sag, lbfgs,  by default = lbfgs]\n",
    "# verbose is similar to logging,   default=0\n",
    "# For the liblinear and lbfgs solvers set verbose to any positive number for verbosity\n",
    "\n",
    "logr_liblinear = LogisticRegression(verbose=1,solver='liblinear')"
   ]
  },
  {
   "cell_type": "code",
   "execution_count": null,
   "id": "a76cb622",
   "metadata": {},
   "outputs": [],
   "source": [
    "logr_liblinear.fit(x_train,y_train )"
   ]
  },
  {
   "cell_type": "code",
   "execution_count": null,
   "id": "e26c080f",
   "metadata": {},
   "outputs": [],
   "source": [
    "logr_liblinear.predict_proba([x_test[1]])"
   ]
  },
  {
   "cell_type": "code",
   "execution_count": null,
   "id": "a932e43d",
   "metadata": {},
   "outputs": [],
   "source": [
    "logr_liblinear.predict([x_test[1]])"
   ]
  },
  {
   "cell_type": "code",
   "execution_count": null,
   "id": "cd897b47",
   "metadata": {},
   "outputs": [],
   "source": [
    "logr_liblinear.predict_log_proba([x_test[1]])"
   ]
  },
  {
   "cell_type": "code",
   "execution_count": null,
   "id": "73c1d693",
   "metadata": {},
   "outputs": [],
   "source": [
    "type(y_test)"
   ]
  },
  {
   "cell_type": "code",
   "execution_count": null,
   "id": "0f7d3ff5",
   "metadata": {},
   "outputs": [],
   "source": [
    "y_test.iloc[0]"
   ]
  },
  {
   "cell_type": "code",
   "execution_count": null,
   "id": "2379b0f0",
   "metadata": {},
   "outputs": [],
   "source": [
    "y_test.iloc[1]"
   ]
  },
  {
   "cell_type": "code",
   "execution_count": null,
   "id": "2c1ba03f",
   "metadata": {},
   "outputs": [],
   "source": [
    "y_test"
   ]
  },
  {
   "cell_type": "code",
   "execution_count": null,
   "id": "81c42914",
   "metadata": {},
   "outputs": [],
   "source": [
    "logr = LogisticRegression(verbose=1)"
   ]
  },
  {
   "cell_type": "code",
   "execution_count": null,
   "id": "402a327e",
   "metadata": {},
   "outputs": [],
   "source": [
    "logr.fit(x_train,y_train)"
   ]
  },
  {
   "cell_type": "code",
   "execution_count": null,
   "id": "b2708dbd",
   "metadata": {},
   "outputs": [],
   "source": [
    "logr.predict_proba([x_test[1]])"
   ]
  },
  {
   "cell_type": "code",
   "execution_count": null,
   "id": "8a791e50",
   "metadata": {},
   "outputs": [],
   "source": [
    "r.predict([x_test[1]])"
   ]
  },
  {
   "cell_type": "code",
   "execution_count": null,
   "id": "71b7ce05",
   "metadata": {},
   "outputs": [],
   "source": [
    "logr.predict([x_test[1]])"
   ]
  },
  {
   "cell_type": "code",
   "execution_count": null,
   "id": "0bab00f0",
   "metadata": {},
   "outputs": [],
   "source": [
    "logr.predict_log_proba([x_test[1]])"
   ]
  },
  {
   "cell_type": "code",
   "execution_count": null,
   "id": "9b2f4ad1",
   "metadata": {},
   "outputs": [],
   "source": [
    "logr_liblinear"
   ]
  },
  {
   "cell_type": "code",
   "execution_count": null,
   "id": "1303bc09",
   "metadata": {},
   "outputs": [],
   "source": [
    "logr"
   ]
  },
  {
   "cell_type": "code",
   "execution_count": null,
   "id": "7a3422c3",
   "metadata": {},
   "outputs": [],
   "source": [
    "y_pred_liblinear = logr_liblinear.predict(x_test)\n",
    "y_pred_liblinear"
   ]
  },
  {
   "cell_type": "code",
   "execution_count": null,
   "id": "3c9d8ce0",
   "metadata": {},
   "outputs": [],
   "source": [
    "y_pred_default = logr.predict(x_test)"
   ]
  },
  {
   "cell_type": "code",
   "execution_count": null,
   "id": "d7b26573",
   "metadata": {},
   "outputs": [],
   "source": [
    "y_pred_default"
   ]
  },
  {
   "cell_type": "code",
   "execution_count": null,
   "id": "814a3c60",
   "metadata": {},
   "outputs": [],
   "source": [
    "confusion_matrix(y_test,y_pred_liblinear)"
   ]
  },
  {
   "cell_type": "code",
   "execution_count": null,
   "id": "770981cc",
   "metadata": {},
   "outputs": [],
   "source": [
    "confusion_matrix(y_test,y_pred_default)"
   ]
  },
  {
   "cell_type": "code",
   "execution_count": null,
   "id": "d2767d3d",
   "metadata": {},
   "outputs": [],
   "source": [
    "def model_eval(y_true,y_pred):\n",
    "    tn, fp, fn, tp = confusion_matrix(y_test,y_pred).ravel()\n",
    "    accuracy=(tp+tn)/(tp+tn+fp+fn)\n",
    "    precision=tp/(tp+fp)\n",
    "    recall=tp/(tp+fn)\n",
    "    specificity=tn/(fp+tn)\n",
    "    F1_Score = 2*(recall * precision) / (recall + precision)\n",
    "    result={\"Accuracy\":accuracy,\"Precision\":precision,\"Recall\":recall,'Specficity':specificity,'F1':F1_Score}\n",
    "    return result\n",
    "model_eval(y_test,y_pred_liblinear)"
   ]
  },
  {
   "cell_type": "code",
   "execution_count": null,
   "id": "f3567e30",
   "metadata": {},
   "outputs": [],
   "source": [
    "model_eval(y_test,y_pred_default)"
   ]
  },
  {
   "cell_type": "code",
   "execution_count": null,
   "id": "7e065567",
   "metadata": {},
   "outputs": [],
   "source": [
    "auc1 = roc_auc_score(y_test,y_pred_liblinear)"
   ]
  },
  {
   "cell_type": "code",
   "execution_count": null,
   "id": "5f5a0c93",
   "metadata": {},
   "outputs": [],
   "source": [
    "auc1"
   ]
  },
  {
   "cell_type": "code",
   "execution_count": null,
   "id": "eeeba803",
   "metadata": {},
   "outputs": [],
   "source": [
    "auc2=roc_auc_score(y_test,y_pred_default)"
   ]
  },
  {
   "cell_type": "code",
   "execution_count": null,
   "id": "b7f577d3",
   "metadata": {},
   "outputs": [],
   "source": [
    "auc2"
   ]
  },
  {
   "cell_type": "code",
   "execution_count": null,
   "id": "3648c449",
   "metadata": {},
   "outputs": [],
   "source": [
    "fpr, tpr, thresholds  = roc_curve(y_test,y_pred_liblinear)"
   ]
  },
  {
   "cell_type": "code",
   "execution_count": null,
   "id": "71928294",
   "metadata": {},
   "outputs": [],
   "source": [
    "fpr, tpr, thresholds  = roc_curve(y_test,y_pred_default)"
   ]
  },
  {
   "cell_type": "code",
   "execution_count": null,
   "id": "1684993b",
   "metadata": {},
   "outputs": [],
   "source": [
    "plt.plot(fpr, tpr, color='orange', label='ROC')\n",
    "plt.plot([0, 1], [0, 1], color='darkblue', linestyle='--',label='ROC curve (area = %0.2f)' % auc)\n",
    "plt.xlabel('False Positive Rate')\n",
    "plt.ylabel('True Positive Rate')\n",
    "plt.title('Receiver Operating Characteristic (ROC) Curve')\n",
    "plt.legend()\n",
    "plt.show()"
   ]
  },
  {
   "cell_type": "code",
   "execution_count": null,
   "id": "b1f089db",
   "metadata": {},
   "outputs": [],
   "source": [
    "#logist regression task \n",
    "\n",
    "https://archive.ics.uci.edu/ml/datasets/Activity+Recognition+system+based+on+Multisensor+data+fusion+%28AReM%29#\n",
    "    \n",
    "Task Logistic Regression\n",
    "~~~~~~~~~~~~~~~~~~~~~~~~~~~\n",
    "1. WAP to read folder name and make a label in the csv with folder name\n",
    "2. Remove unneccesarry info in Automated way\n",
    "3. No other algorithm must be used other than Logistic Regression\n",
    "4. Try to utilize multiple solvers and make multiple models\n",
    "5. Provide the best models\n",
    "6. EDA and all must be done accordingly\n",
    "Note: No manual approaches will be appreciated\n"
   ]
  },
  {
   "cell_type": "code",
   "execution_count": null,
   "id": "ad9b2b23",
   "metadata": {},
   "outputs": [],
   "source": []
  },
  {
   "cell_type": "code",
   "execution_count": null,
   "id": "59639b7d",
   "metadata": {},
   "outputs": [],
   "source": []
  },
  {
   "cell_type": "code",
   "execution_count": null,
   "id": "11b04bdc",
   "metadata": {},
   "outputs": [],
   "source": []
  }
 ],
 "metadata": {
  "kernelspec": {
   "display_name": "Python 3 (ipykernel)",
   "language": "python",
   "name": "python3"
  },
  "language_info": {
   "codemirror_mode": {
    "name": "ipython",
    "version": 3
   },
   "file_extension": ".py",
   "mimetype": "text/x-python",
   "name": "python",
   "nbconvert_exporter": "python",
   "pygments_lexer": "ipython3",
   "version": "3.9.12"
  }
 },
 "nbformat": 4,
 "nbformat_minor": 5
}
